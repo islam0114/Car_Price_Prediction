{
 "cells": [
  {
   "cell_type": "markdown",
   "id": "d150d227",
   "metadata": {},
   "source": [
    "## **Milestone 1: Data Exploration and Preprocessing**"
   ]
  },
  {
   "cell_type": "code",
   "execution_count": 446,
   "id": "f9b3f902",
   "metadata": {},
   "outputs": [],
   "source": [
    "import pandas as pd\n",
    "import matplotlib.pyplot as plt\n",
    "import numpy as np\n",
    "import seaborn as sns"
   ]
  },
  {
   "cell_type": "markdown",
   "id": "45bec556",
   "metadata": {},
   "source": [
    "**Simple Exploration**"
   ]
  },
  {
   "cell_type": "code",
   "execution_count": 447,
   "id": "0c497c64",
   "metadata": {},
   "outputs": [
    {
     "data": {
      "application/vnd.microsoft.datawrangler.viewer.v0+json": {
       "columns": [
        {
         "name": "index",
         "rawType": "int64",
         "type": "integer"
        },
        {
         "name": "ID",
         "rawType": "int64",
         "type": "integer"
        },
        {
         "name": "Price",
         "rawType": "int64",
         "type": "integer"
        },
        {
         "name": "Levy",
         "rawType": "object",
         "type": "string"
        },
        {
         "name": "Manufacturer",
         "rawType": "object",
         "type": "string"
        },
        {
         "name": "Model",
         "rawType": "object",
         "type": "string"
        },
        {
         "name": "Prod. year",
         "rawType": "int64",
         "type": "integer"
        },
        {
         "name": "Category",
         "rawType": "object",
         "type": "string"
        },
        {
         "name": "Leather interior",
         "rawType": "object",
         "type": "string"
        },
        {
         "name": "Fuel type",
         "rawType": "object",
         "type": "string"
        },
        {
         "name": "Engine volume",
         "rawType": "object",
         "type": "string"
        },
        {
         "name": "Mileage",
         "rawType": "object",
         "type": "string"
        },
        {
         "name": "Cylinders",
         "rawType": "float64",
         "type": "float"
        },
        {
         "name": "Gear box type",
         "rawType": "object",
         "type": "string"
        },
        {
         "name": "Drive wheels",
         "rawType": "object",
         "type": "string"
        },
        {
         "name": "Doors",
         "rawType": "object",
         "type": "string"
        },
        {
         "name": "Wheel",
         "rawType": "object",
         "type": "string"
        },
        {
         "name": "Color",
         "rawType": "object",
         "type": "string"
        },
        {
         "name": "Airbags",
         "rawType": "int64",
         "type": "integer"
        }
       ],
       "ref": "c69ab7cc-5937-4066-8307-ebe8e8f7b137",
       "rows": [
        [
         "0",
         "45654403",
         "13328",
         "1399",
         "LEXUS",
         "RX 450",
         "2010",
         "Jeep",
         "Yes",
         "Hybrid",
         "3.5",
         "186005 km",
         "6.0",
         "Automatic",
         "4x4",
         "04-May",
         "Left wheel",
         "Silver",
         "12"
        ],
        [
         "1",
         "44731507",
         "16621",
         "1018",
         "CHEVROLET",
         "Equinox",
         "2011",
         "Jeep",
         "No",
         "Petrol",
         "3",
         "192000 km",
         "6.0",
         "Tiptronic",
         "4x4",
         "04-May",
         "Left wheel",
         "Black",
         "8"
        ],
        [
         "2",
         "45774419",
         "8467",
         "-",
         "HONDA",
         "FIT",
         "2006",
         "Hatchback",
         "No",
         "Petrol",
         "1.3",
         "200000 km",
         "4.0",
         "Variator",
         "Front",
         "04-May",
         "Right-hand drive",
         "Black",
         "2"
        ],
        [
         "3",
         "45769185",
         "3607",
         "862",
         "FORD",
         "Escape",
         "2011",
         "Jeep",
         "Yes",
         "Hybrid",
         "2.5",
         "168966 km",
         "4.0",
         "Automatic",
         "4x4",
         "04-May",
         "Left wheel",
         "White",
         "0"
        ],
        [
         "4",
         "45809263",
         "11726",
         "446",
         "HONDA",
         "FIT",
         "2014",
         "Hatchback",
         "Yes",
         "Petrol",
         "1.3",
         "91901 km",
         "4.0",
         "Automatic",
         "Front",
         "04-May",
         "Left wheel",
         "Silver",
         "4"
        ]
       ],
       "shape": {
        "columns": 18,
        "rows": 5
       }
      },
      "text/html": [
       "<div>\n",
       "<style scoped>\n",
       "    .dataframe tbody tr th:only-of-type {\n",
       "        vertical-align: middle;\n",
       "    }\n",
       "\n",
       "    .dataframe tbody tr th {\n",
       "        vertical-align: top;\n",
       "    }\n",
       "\n",
       "    .dataframe thead th {\n",
       "        text-align: right;\n",
       "    }\n",
       "</style>\n",
       "<table border=\"1\" class=\"dataframe\">\n",
       "  <thead>\n",
       "    <tr style=\"text-align: right;\">\n",
       "      <th></th>\n",
       "      <th>ID</th>\n",
       "      <th>Price</th>\n",
       "      <th>Levy</th>\n",
       "      <th>Manufacturer</th>\n",
       "      <th>Model</th>\n",
       "      <th>Prod. year</th>\n",
       "      <th>Category</th>\n",
       "      <th>Leather interior</th>\n",
       "      <th>Fuel type</th>\n",
       "      <th>Engine volume</th>\n",
       "      <th>Mileage</th>\n",
       "      <th>Cylinders</th>\n",
       "      <th>Gear box type</th>\n",
       "      <th>Drive wheels</th>\n",
       "      <th>Doors</th>\n",
       "      <th>Wheel</th>\n",
       "      <th>Color</th>\n",
       "      <th>Airbags</th>\n",
       "    </tr>\n",
       "  </thead>\n",
       "  <tbody>\n",
       "    <tr>\n",
       "      <th>0</th>\n",
       "      <td>45654403</td>\n",
       "      <td>13328</td>\n",
       "      <td>1399</td>\n",
       "      <td>LEXUS</td>\n",
       "      <td>RX 450</td>\n",
       "      <td>2010</td>\n",
       "      <td>Jeep</td>\n",
       "      <td>Yes</td>\n",
       "      <td>Hybrid</td>\n",
       "      <td>3.5</td>\n",
       "      <td>186005 km</td>\n",
       "      <td>6.0</td>\n",
       "      <td>Automatic</td>\n",
       "      <td>4x4</td>\n",
       "      <td>04-May</td>\n",
       "      <td>Left wheel</td>\n",
       "      <td>Silver</td>\n",
       "      <td>12</td>\n",
       "    </tr>\n",
       "    <tr>\n",
       "      <th>1</th>\n",
       "      <td>44731507</td>\n",
       "      <td>16621</td>\n",
       "      <td>1018</td>\n",
       "      <td>CHEVROLET</td>\n",
       "      <td>Equinox</td>\n",
       "      <td>2011</td>\n",
       "      <td>Jeep</td>\n",
       "      <td>No</td>\n",
       "      <td>Petrol</td>\n",
       "      <td>3</td>\n",
       "      <td>192000 km</td>\n",
       "      <td>6.0</td>\n",
       "      <td>Tiptronic</td>\n",
       "      <td>4x4</td>\n",
       "      <td>04-May</td>\n",
       "      <td>Left wheel</td>\n",
       "      <td>Black</td>\n",
       "      <td>8</td>\n",
       "    </tr>\n",
       "    <tr>\n",
       "      <th>2</th>\n",
       "      <td>45774419</td>\n",
       "      <td>8467</td>\n",
       "      <td>-</td>\n",
       "      <td>HONDA</td>\n",
       "      <td>FIT</td>\n",
       "      <td>2006</td>\n",
       "      <td>Hatchback</td>\n",
       "      <td>No</td>\n",
       "      <td>Petrol</td>\n",
       "      <td>1.3</td>\n",
       "      <td>200000 km</td>\n",
       "      <td>4.0</td>\n",
       "      <td>Variator</td>\n",
       "      <td>Front</td>\n",
       "      <td>04-May</td>\n",
       "      <td>Right-hand drive</td>\n",
       "      <td>Black</td>\n",
       "      <td>2</td>\n",
       "    </tr>\n",
       "    <tr>\n",
       "      <th>3</th>\n",
       "      <td>45769185</td>\n",
       "      <td>3607</td>\n",
       "      <td>862</td>\n",
       "      <td>FORD</td>\n",
       "      <td>Escape</td>\n",
       "      <td>2011</td>\n",
       "      <td>Jeep</td>\n",
       "      <td>Yes</td>\n",
       "      <td>Hybrid</td>\n",
       "      <td>2.5</td>\n",
       "      <td>168966 km</td>\n",
       "      <td>4.0</td>\n",
       "      <td>Automatic</td>\n",
       "      <td>4x4</td>\n",
       "      <td>04-May</td>\n",
       "      <td>Left wheel</td>\n",
       "      <td>White</td>\n",
       "      <td>0</td>\n",
       "    </tr>\n",
       "    <tr>\n",
       "      <th>4</th>\n",
       "      <td>45809263</td>\n",
       "      <td>11726</td>\n",
       "      <td>446</td>\n",
       "      <td>HONDA</td>\n",
       "      <td>FIT</td>\n",
       "      <td>2014</td>\n",
       "      <td>Hatchback</td>\n",
       "      <td>Yes</td>\n",
       "      <td>Petrol</td>\n",
       "      <td>1.3</td>\n",
       "      <td>91901 km</td>\n",
       "      <td>4.0</td>\n",
       "      <td>Automatic</td>\n",
       "      <td>Front</td>\n",
       "      <td>04-May</td>\n",
       "      <td>Left wheel</td>\n",
       "      <td>Silver</td>\n",
       "      <td>4</td>\n",
       "    </tr>\n",
       "  </tbody>\n",
       "</table>\n",
       "</div>"
      ],
      "text/plain": [
       "         ID  Price  Levy Manufacturer    Model  Prod. year   Category  \\\n",
       "0  45654403  13328  1399        LEXUS   RX 450        2010       Jeep   \n",
       "1  44731507  16621  1018    CHEVROLET  Equinox        2011       Jeep   \n",
       "2  45774419   8467     -        HONDA      FIT        2006  Hatchback   \n",
       "3  45769185   3607   862         FORD   Escape        2011       Jeep   \n",
       "4  45809263  11726   446        HONDA      FIT        2014  Hatchback   \n",
       "\n",
       "  Leather interior Fuel type Engine volume    Mileage  Cylinders  \\\n",
       "0              Yes    Hybrid           3.5  186005 km        6.0   \n",
       "1               No    Petrol             3  192000 km        6.0   \n",
       "2               No    Petrol           1.3  200000 km        4.0   \n",
       "3              Yes    Hybrid           2.5  168966 km        4.0   \n",
       "4              Yes    Petrol           1.3   91901 km        4.0   \n",
       "\n",
       "  Gear box type Drive wheels   Doors             Wheel   Color  Airbags  \n",
       "0     Automatic          4x4  04-May        Left wheel  Silver       12  \n",
       "1     Tiptronic          4x4  04-May        Left wheel   Black        8  \n",
       "2      Variator        Front  04-May  Right-hand drive   Black        2  \n",
       "3     Automatic          4x4  04-May        Left wheel   White        0  \n",
       "4     Automatic        Front  04-May        Left wheel  Silver        4  "
      ]
     },
     "execution_count": 447,
     "metadata": {},
     "output_type": "execute_result"
    }
   ],
   "source": [
    "df = pd.read_csv(\"Data/car_prices.csv\")\n",
    "df.head()"
   ]
  },
  {
   "cell_type": "code",
   "execution_count": 448,
   "id": "e481e72c",
   "metadata": {},
   "outputs": [
    {
     "name": "stdout",
     "output_type": "stream",
     "text": [
      "<class 'pandas.core.frame.DataFrame'>\n",
      "RangeIndex: 19237 entries, 0 to 19236\n",
      "Data columns (total 18 columns):\n",
      " #   Column            Non-Null Count  Dtype  \n",
      "---  ------            --------------  -----  \n",
      " 0   ID                19237 non-null  int64  \n",
      " 1   Price             19237 non-null  int64  \n",
      " 2   Levy              19237 non-null  object \n",
      " 3   Manufacturer      19237 non-null  object \n",
      " 4   Model             19237 non-null  object \n",
      " 5   Prod. year        19237 non-null  int64  \n",
      " 6   Category          19237 non-null  object \n",
      " 7   Leather interior  19237 non-null  object \n",
      " 8   Fuel type         19237 non-null  object \n",
      " 9   Engine volume     19237 non-null  object \n",
      " 10  Mileage           19237 non-null  object \n",
      " 11  Cylinders         19237 non-null  float64\n",
      " 12  Gear box type     19237 non-null  object \n",
      " 13  Drive wheels      19237 non-null  object \n",
      " 14  Doors             19237 non-null  object \n",
      " 15  Wheel             19237 non-null  object \n",
      " 16  Color             19237 non-null  object \n",
      " 17  Airbags           19237 non-null  int64  \n",
      "dtypes: float64(1), int64(4), object(13)\n",
      "memory usage: 2.6+ MB\n"
     ]
    }
   ],
   "source": [
    "df.info()"
   ]
  },
  {
   "cell_type": "code",
   "execution_count": 449,
   "id": "17e1ea0e",
   "metadata": {},
   "outputs": [
    {
     "data": {
      "application/vnd.microsoft.datawrangler.viewer.v0+json": {
       "columns": [
        {
         "name": "index",
         "rawType": "object",
         "type": "string"
        },
        {
         "name": "ID",
         "rawType": "float64",
         "type": "float"
        },
        {
         "name": "Price",
         "rawType": "float64",
         "type": "float"
        },
        {
         "name": "Levy",
         "rawType": "object",
         "type": "unknown"
        },
        {
         "name": "Manufacturer",
         "rawType": "object",
         "type": "unknown"
        },
        {
         "name": "Model",
         "rawType": "object",
         "type": "unknown"
        },
        {
         "name": "Prod. year",
         "rawType": "float64",
         "type": "float"
        },
        {
         "name": "Category",
         "rawType": "object",
         "type": "unknown"
        },
        {
         "name": "Leather interior",
         "rawType": "object",
         "type": "unknown"
        },
        {
         "name": "Fuel type",
         "rawType": "object",
         "type": "unknown"
        },
        {
         "name": "Engine volume",
         "rawType": "object",
         "type": "unknown"
        },
        {
         "name": "Mileage",
         "rawType": "object",
         "type": "unknown"
        },
        {
         "name": "Cylinders",
         "rawType": "float64",
         "type": "float"
        },
        {
         "name": "Gear box type",
         "rawType": "object",
         "type": "unknown"
        },
        {
         "name": "Drive wheels",
         "rawType": "object",
         "type": "unknown"
        },
        {
         "name": "Doors",
         "rawType": "object",
         "type": "unknown"
        },
        {
         "name": "Wheel",
         "rawType": "object",
         "type": "unknown"
        },
        {
         "name": "Color",
         "rawType": "object",
         "type": "unknown"
        },
        {
         "name": "Airbags",
         "rawType": "float64",
         "type": "float"
        }
       ],
       "ref": "42b17def-e86c-4dff-aa1a-294e897a7c5f",
       "rows": [
        [
         "count",
         "19237.0",
         "19237.0",
         "19237",
         "19237",
         "19237",
         "19237.0",
         "19237",
         "19237",
         "19237",
         "19237",
         "19237",
         "19237.0",
         "19237",
         "19237",
         "19237",
         "19237",
         "19237",
         "19237.0"
        ],
        [
         "unique",
         null,
         null,
         "559",
         "65",
         "1590",
         null,
         "11",
         "2",
         "7",
         "107",
         "7687",
         null,
         "4",
         "3",
         "3",
         "2",
         "16",
         null
        ],
        [
         "top",
         null,
         null,
         "-",
         "HYUNDAI",
         "Prius",
         null,
         "Sedan",
         "Yes",
         "Petrol",
         "2",
         "0 km",
         null,
         "Automatic",
         "Front",
         "04-May",
         "Left wheel",
         "Black",
         null
        ],
        [
         "freq",
         null,
         null,
         "5819",
         "3769",
         "1083",
         null,
         "8736",
         "13954",
         "10150",
         "3916",
         "721",
         null,
         "13514",
         "12874",
         "18332",
         "17753",
         "5033",
         null
        ],
        [
         "mean",
         "45576535.886104904",
         "18555.92722357956",
         null,
         null,
         null,
         "2010.9128242449447",
         null,
         null,
         null,
         null,
         null,
         "4.582991110880075",
         null,
         null,
         null,
         null,
         null,
         "6.582627228777876"
        ],
        [
         "std",
         "936591.4227992414",
         "190581.26968400902",
         null,
         null,
         null,
         "5.668672994387625",
         null,
         null,
         null,
         null,
         null,
         "1.199933167965331",
         null,
         null,
         null,
         null,
         null,
         "4.3201683949222085"
        ],
        [
         "min",
         "20746880.0",
         "1.0",
         null,
         null,
         null,
         "1939.0",
         null,
         null,
         null,
         null,
         null,
         "1.0",
         null,
         null,
         null,
         null,
         null,
         "0.0"
        ],
        [
         "25%",
         "45698374.0",
         "5331.0",
         null,
         null,
         null,
         "2009.0",
         null,
         null,
         null,
         null,
         null,
         "4.0",
         null,
         null,
         null,
         null,
         null,
         "4.0"
        ],
        [
         "50%",
         "45772308.0",
         "13172.0",
         null,
         null,
         null,
         "2012.0",
         null,
         null,
         null,
         null,
         null,
         "4.0",
         null,
         null,
         null,
         null,
         null,
         "6.0"
        ],
        [
         "75%",
         "45802036.0",
         "22075.0",
         null,
         null,
         null,
         "2015.0",
         null,
         null,
         null,
         null,
         null,
         "4.0",
         null,
         null,
         null,
         null,
         null,
         "12.0"
        ],
        [
         "max",
         "45816654.0",
         "26307500.0",
         null,
         null,
         null,
         "2020.0",
         null,
         null,
         null,
         null,
         null,
         "16.0",
         null,
         null,
         null,
         null,
         null,
         "16.0"
        ]
       ],
       "shape": {
        "columns": 18,
        "rows": 11
       }
      },
      "text/html": [
       "<div>\n",
       "<style scoped>\n",
       "    .dataframe tbody tr th:only-of-type {\n",
       "        vertical-align: middle;\n",
       "    }\n",
       "\n",
       "    .dataframe tbody tr th {\n",
       "        vertical-align: top;\n",
       "    }\n",
       "\n",
       "    .dataframe thead th {\n",
       "        text-align: right;\n",
       "    }\n",
       "</style>\n",
       "<table border=\"1\" class=\"dataframe\">\n",
       "  <thead>\n",
       "    <tr style=\"text-align: right;\">\n",
       "      <th></th>\n",
       "      <th>ID</th>\n",
       "      <th>Price</th>\n",
       "      <th>Levy</th>\n",
       "      <th>Manufacturer</th>\n",
       "      <th>Model</th>\n",
       "      <th>Prod. year</th>\n",
       "      <th>Category</th>\n",
       "      <th>Leather interior</th>\n",
       "      <th>Fuel type</th>\n",
       "      <th>Engine volume</th>\n",
       "      <th>Mileage</th>\n",
       "      <th>Cylinders</th>\n",
       "      <th>Gear box type</th>\n",
       "      <th>Drive wheels</th>\n",
       "      <th>Doors</th>\n",
       "      <th>Wheel</th>\n",
       "      <th>Color</th>\n",
       "      <th>Airbags</th>\n",
       "    </tr>\n",
       "  </thead>\n",
       "  <tbody>\n",
       "    <tr>\n",
       "      <th>count</th>\n",
       "      <td>1.923700e+04</td>\n",
       "      <td>1.923700e+04</td>\n",
       "      <td>19237</td>\n",
       "      <td>19237</td>\n",
       "      <td>19237</td>\n",
       "      <td>19237.000000</td>\n",
       "      <td>19237</td>\n",
       "      <td>19237</td>\n",
       "      <td>19237</td>\n",
       "      <td>19237</td>\n",
       "      <td>19237</td>\n",
       "      <td>19237.000000</td>\n",
       "      <td>19237</td>\n",
       "      <td>19237</td>\n",
       "      <td>19237</td>\n",
       "      <td>19237</td>\n",
       "      <td>19237</td>\n",
       "      <td>19237.000000</td>\n",
       "    </tr>\n",
       "    <tr>\n",
       "      <th>unique</th>\n",
       "      <td>NaN</td>\n",
       "      <td>NaN</td>\n",
       "      <td>559</td>\n",
       "      <td>65</td>\n",
       "      <td>1590</td>\n",
       "      <td>NaN</td>\n",
       "      <td>11</td>\n",
       "      <td>2</td>\n",
       "      <td>7</td>\n",
       "      <td>107</td>\n",
       "      <td>7687</td>\n",
       "      <td>NaN</td>\n",
       "      <td>4</td>\n",
       "      <td>3</td>\n",
       "      <td>3</td>\n",
       "      <td>2</td>\n",
       "      <td>16</td>\n",
       "      <td>NaN</td>\n",
       "    </tr>\n",
       "    <tr>\n",
       "      <th>top</th>\n",
       "      <td>NaN</td>\n",
       "      <td>NaN</td>\n",
       "      <td>-</td>\n",
       "      <td>HYUNDAI</td>\n",
       "      <td>Prius</td>\n",
       "      <td>NaN</td>\n",
       "      <td>Sedan</td>\n",
       "      <td>Yes</td>\n",
       "      <td>Petrol</td>\n",
       "      <td>2</td>\n",
       "      <td>0 km</td>\n",
       "      <td>NaN</td>\n",
       "      <td>Automatic</td>\n",
       "      <td>Front</td>\n",
       "      <td>04-May</td>\n",
       "      <td>Left wheel</td>\n",
       "      <td>Black</td>\n",
       "      <td>NaN</td>\n",
       "    </tr>\n",
       "    <tr>\n",
       "      <th>freq</th>\n",
       "      <td>NaN</td>\n",
       "      <td>NaN</td>\n",
       "      <td>5819</td>\n",
       "      <td>3769</td>\n",
       "      <td>1083</td>\n",
       "      <td>NaN</td>\n",
       "      <td>8736</td>\n",
       "      <td>13954</td>\n",
       "      <td>10150</td>\n",
       "      <td>3916</td>\n",
       "      <td>721</td>\n",
       "      <td>NaN</td>\n",
       "      <td>13514</td>\n",
       "      <td>12874</td>\n",
       "      <td>18332</td>\n",
       "      <td>17753</td>\n",
       "      <td>5033</td>\n",
       "      <td>NaN</td>\n",
       "    </tr>\n",
       "    <tr>\n",
       "      <th>mean</th>\n",
       "      <td>4.557654e+07</td>\n",
       "      <td>1.855593e+04</td>\n",
       "      <td>NaN</td>\n",
       "      <td>NaN</td>\n",
       "      <td>NaN</td>\n",
       "      <td>2010.912824</td>\n",
       "      <td>NaN</td>\n",
       "      <td>NaN</td>\n",
       "      <td>NaN</td>\n",
       "      <td>NaN</td>\n",
       "      <td>NaN</td>\n",
       "      <td>4.582991</td>\n",
       "      <td>NaN</td>\n",
       "      <td>NaN</td>\n",
       "      <td>NaN</td>\n",
       "      <td>NaN</td>\n",
       "      <td>NaN</td>\n",
       "      <td>6.582627</td>\n",
       "    </tr>\n",
       "    <tr>\n",
       "      <th>std</th>\n",
       "      <td>9.365914e+05</td>\n",
       "      <td>1.905813e+05</td>\n",
       "      <td>NaN</td>\n",
       "      <td>NaN</td>\n",
       "      <td>NaN</td>\n",
       "      <td>5.668673</td>\n",
       "      <td>NaN</td>\n",
       "      <td>NaN</td>\n",
       "      <td>NaN</td>\n",
       "      <td>NaN</td>\n",
       "      <td>NaN</td>\n",
       "      <td>1.199933</td>\n",
       "      <td>NaN</td>\n",
       "      <td>NaN</td>\n",
       "      <td>NaN</td>\n",
       "      <td>NaN</td>\n",
       "      <td>NaN</td>\n",
       "      <td>4.320168</td>\n",
       "    </tr>\n",
       "    <tr>\n",
       "      <th>min</th>\n",
       "      <td>2.074688e+07</td>\n",
       "      <td>1.000000e+00</td>\n",
       "      <td>NaN</td>\n",
       "      <td>NaN</td>\n",
       "      <td>NaN</td>\n",
       "      <td>1939.000000</td>\n",
       "      <td>NaN</td>\n",
       "      <td>NaN</td>\n",
       "      <td>NaN</td>\n",
       "      <td>NaN</td>\n",
       "      <td>NaN</td>\n",
       "      <td>1.000000</td>\n",
       "      <td>NaN</td>\n",
       "      <td>NaN</td>\n",
       "      <td>NaN</td>\n",
       "      <td>NaN</td>\n",
       "      <td>NaN</td>\n",
       "      <td>0.000000</td>\n",
       "    </tr>\n",
       "    <tr>\n",
       "      <th>25%</th>\n",
       "      <td>4.569837e+07</td>\n",
       "      <td>5.331000e+03</td>\n",
       "      <td>NaN</td>\n",
       "      <td>NaN</td>\n",
       "      <td>NaN</td>\n",
       "      <td>2009.000000</td>\n",
       "      <td>NaN</td>\n",
       "      <td>NaN</td>\n",
       "      <td>NaN</td>\n",
       "      <td>NaN</td>\n",
       "      <td>NaN</td>\n",
       "      <td>4.000000</td>\n",
       "      <td>NaN</td>\n",
       "      <td>NaN</td>\n",
       "      <td>NaN</td>\n",
       "      <td>NaN</td>\n",
       "      <td>NaN</td>\n",
       "      <td>4.000000</td>\n",
       "    </tr>\n",
       "    <tr>\n",
       "      <th>50%</th>\n",
       "      <td>4.577231e+07</td>\n",
       "      <td>1.317200e+04</td>\n",
       "      <td>NaN</td>\n",
       "      <td>NaN</td>\n",
       "      <td>NaN</td>\n",
       "      <td>2012.000000</td>\n",
       "      <td>NaN</td>\n",
       "      <td>NaN</td>\n",
       "      <td>NaN</td>\n",
       "      <td>NaN</td>\n",
       "      <td>NaN</td>\n",
       "      <td>4.000000</td>\n",
       "      <td>NaN</td>\n",
       "      <td>NaN</td>\n",
       "      <td>NaN</td>\n",
       "      <td>NaN</td>\n",
       "      <td>NaN</td>\n",
       "      <td>6.000000</td>\n",
       "    </tr>\n",
       "    <tr>\n",
       "      <th>75%</th>\n",
       "      <td>4.580204e+07</td>\n",
       "      <td>2.207500e+04</td>\n",
       "      <td>NaN</td>\n",
       "      <td>NaN</td>\n",
       "      <td>NaN</td>\n",
       "      <td>2015.000000</td>\n",
       "      <td>NaN</td>\n",
       "      <td>NaN</td>\n",
       "      <td>NaN</td>\n",
       "      <td>NaN</td>\n",
       "      <td>NaN</td>\n",
       "      <td>4.000000</td>\n",
       "      <td>NaN</td>\n",
       "      <td>NaN</td>\n",
       "      <td>NaN</td>\n",
       "      <td>NaN</td>\n",
       "      <td>NaN</td>\n",
       "      <td>12.000000</td>\n",
       "    </tr>\n",
       "    <tr>\n",
       "      <th>max</th>\n",
       "      <td>4.581665e+07</td>\n",
       "      <td>2.630750e+07</td>\n",
       "      <td>NaN</td>\n",
       "      <td>NaN</td>\n",
       "      <td>NaN</td>\n",
       "      <td>2020.000000</td>\n",
       "      <td>NaN</td>\n",
       "      <td>NaN</td>\n",
       "      <td>NaN</td>\n",
       "      <td>NaN</td>\n",
       "      <td>NaN</td>\n",
       "      <td>16.000000</td>\n",
       "      <td>NaN</td>\n",
       "      <td>NaN</td>\n",
       "      <td>NaN</td>\n",
       "      <td>NaN</td>\n",
       "      <td>NaN</td>\n",
       "      <td>16.000000</td>\n",
       "    </tr>\n",
       "  </tbody>\n",
       "</table>\n",
       "</div>"
      ],
      "text/plain": [
       "                  ID         Price   Levy Manufacturer  Model    Prod. year  \\\n",
       "count   1.923700e+04  1.923700e+04  19237        19237  19237  19237.000000   \n",
       "unique           NaN           NaN    559           65   1590           NaN   \n",
       "top              NaN           NaN      -      HYUNDAI  Prius           NaN   \n",
       "freq             NaN           NaN   5819         3769   1083           NaN   \n",
       "mean    4.557654e+07  1.855593e+04    NaN          NaN    NaN   2010.912824   \n",
       "std     9.365914e+05  1.905813e+05    NaN          NaN    NaN      5.668673   \n",
       "min     2.074688e+07  1.000000e+00    NaN          NaN    NaN   1939.000000   \n",
       "25%     4.569837e+07  5.331000e+03    NaN          NaN    NaN   2009.000000   \n",
       "50%     4.577231e+07  1.317200e+04    NaN          NaN    NaN   2012.000000   \n",
       "75%     4.580204e+07  2.207500e+04    NaN          NaN    NaN   2015.000000   \n",
       "max     4.581665e+07  2.630750e+07    NaN          NaN    NaN   2020.000000   \n",
       "\n",
       "       Category Leather interior Fuel type Engine volume Mileage  \\\n",
       "count     19237            19237     19237         19237   19237   \n",
       "unique       11                2         7           107    7687   \n",
       "top       Sedan              Yes    Petrol             2    0 km   \n",
       "freq       8736            13954     10150          3916     721   \n",
       "mean        NaN              NaN       NaN           NaN     NaN   \n",
       "std         NaN              NaN       NaN           NaN     NaN   \n",
       "min         NaN              NaN       NaN           NaN     NaN   \n",
       "25%         NaN              NaN       NaN           NaN     NaN   \n",
       "50%         NaN              NaN       NaN           NaN     NaN   \n",
       "75%         NaN              NaN       NaN           NaN     NaN   \n",
       "max         NaN              NaN       NaN           NaN     NaN   \n",
       "\n",
       "           Cylinders Gear box type Drive wheels   Doors       Wheel  Color  \\\n",
       "count   19237.000000         19237        19237   19237       19237  19237   \n",
       "unique           NaN             4            3       3           2     16   \n",
       "top              NaN     Automatic        Front  04-May  Left wheel  Black   \n",
       "freq             NaN         13514        12874   18332       17753   5033   \n",
       "mean        4.582991           NaN          NaN     NaN         NaN    NaN   \n",
       "std         1.199933           NaN          NaN     NaN         NaN    NaN   \n",
       "min         1.000000           NaN          NaN     NaN         NaN    NaN   \n",
       "25%         4.000000           NaN          NaN     NaN         NaN    NaN   \n",
       "50%         4.000000           NaN          NaN     NaN         NaN    NaN   \n",
       "75%         4.000000           NaN          NaN     NaN         NaN    NaN   \n",
       "max        16.000000           NaN          NaN     NaN         NaN    NaN   \n",
       "\n",
       "             Airbags  \n",
       "count   19237.000000  \n",
       "unique           NaN  \n",
       "top              NaN  \n",
       "freq             NaN  \n",
       "mean        6.582627  \n",
       "std         4.320168  \n",
       "min         0.000000  \n",
       "25%         4.000000  \n",
       "50%         6.000000  \n",
       "75%        12.000000  \n",
       "max        16.000000  "
      ]
     },
     "execution_count": 449,
     "metadata": {},
     "output_type": "execute_result"
    }
   ],
   "source": [
    "df.describe(include='all')"
   ]
  },
  {
   "cell_type": "markdown",
   "id": "25ee81d0",
   "metadata": {},
   "source": [
    "----"
   ]
  },
  {
   "cell_type": "markdown",
   "id": "3352b479",
   "metadata": {},
   "source": [
    "**Handle Types:**"
   ]
  },
  {
   "cell_type": "code",
   "execution_count": 450,
   "id": "c597e072",
   "metadata": {},
   "outputs": [
    {
     "data": {
      "application/vnd.microsoft.datawrangler.viewer.v0+json": {
       "columns": [
        {
         "name": "Levy",
         "rawType": "object",
         "type": "string"
        },
        {
         "name": "count",
         "rawType": "int64",
         "type": "integer"
        }
       ],
       "ref": "b21a5a22-83a6-4937-891f-f2490cbe21d6",
       "rows": [
        [
         "-",
         "5819"
        ],
        [
         "765",
         "486"
        ],
        [
         "891",
         "461"
        ],
        [
         "639",
         "410"
        ],
        [
         "640",
         "405"
        ],
        [
         "1017",
         "298"
        ],
        [
         "781",
         "297"
        ],
        [
         "707",
         "270"
        ],
        [
         "642",
         "265"
        ],
        [
         "836",
         "260"
        ],
        [
         "779",
         "252"
        ],
        [
         "777",
         "246"
        ],
        [
         "585",
         "214"
        ],
        [
         "831",
         "208"
        ],
        [
         "1172",
         "197"
        ],
        [
         "586",
         "189"
        ],
        [
         "1399",
         "188"
        ],
        [
         "761",
         "183"
        ],
        [
         "730",
         "170"
        ],
        [
         "1091",
         "170"
        ],
        [
         "645",
         "161"
        ],
        [
         "531",
         "159"
        ],
        [
         "394",
         "156"
        ],
        [
         "1058",
         "150"
        ],
        [
         "919",
         "141"
        ],
        [
         "583",
         "139"
        ],
        [
         "1018",
         "135"
        ],
        [
         "862",
         "129"
        ],
        [
         "1053",
         "128"
        ],
        [
         "753",
         "128"
        ],
        [
         "584",
         "126"
        ],
        [
         "1079",
         "124"
        ],
        [
         "530",
         "117"
        ],
        [
         "934",
         "109"
        ],
        [
         "1249",
         "107"
        ],
        [
         "503",
         "107"
        ],
        [
         "528",
         "104"
        ],
        [
         "308",
         "102"
        ],
        [
         "687",
         "101"
        ],
        [
         "382",
         "101"
        ],
        [
         "1055",
         "98"
        ],
        [
         "629",
         "97"
        ],
        [
         "697",
         "97"
        ],
        [
         "751",
         "96"
        ],
        [
         "1077",
         "93"
        ],
        [
         "915",
         "92"
        ],
        [
         "502",
         "92"
        ],
        [
         "1024",
         "90"
        ],
        [
         "1750",
         "79"
        ],
        [
         "900",
         "76"
        ]
       ],
       "shape": {
        "columns": 1,
        "rows": 559
       }
      },
      "text/plain": [
       "Levy\n",
       "-       5819\n",
       "765      486\n",
       "891      461\n",
       "639      410\n",
       "640      405\n",
       "        ... \n",
       "3156       1\n",
       "2908       1\n",
       "1279       1\n",
       "1719       1\n",
       "1901       1\n",
       "Name: count, Length: 559, dtype: int64"
      ]
     },
     "execution_count": 450,
     "metadata": {},
     "output_type": "execute_result"
    }
   ],
   "source": [
    "df[\"Levy\"].value_counts()"
   ]
  },
  {
   "cell_type": "code",
   "execution_count": 451,
   "id": "6a6f268f",
   "metadata": {},
   "outputs": [
    {
     "name": "stderr",
     "output_type": "stream",
     "text": [
      "C:\\Users\\eslam\\AppData\\Local\\Temp\\ipykernel_14436\\1523896074.py:2: FutureWarning: A value is trying to be set on a copy of a DataFrame or Series through chained assignment using an inplace method.\n",
      "The behavior will change in pandas 3.0. This inplace method will never work because the intermediate object on which we are setting values always behaves as a copy.\n",
      "\n",
      "For example, when doing 'df[col].method(value, inplace=True)', try using 'df.method({col: value}, inplace=True)' or df[col] = df[col].method(value) instead, to perform the operation inplace on the original object.\n",
      "\n",
      "\n",
      "  df[\"Levy\"].replace(\"-\", 0, inplace=True)\n"
     ]
    }
   ],
   "source": [
    "# Levy: Replace \"-\" with 0 and convert to int\n",
    "df[\"Levy\"].replace(\"-\", 0, inplace=True)\n",
    "df[\"Levy\"] = df[\"Levy\"].astype(\"int32\")"
   ]
  },
  {
   "cell_type": "code",
   "execution_count": 452,
   "id": "0fc330e9",
   "metadata": {},
   "outputs": [
    {
     "data": {
      "application/vnd.microsoft.datawrangler.viewer.v0+json": {
       "columns": [
        {
         "name": "Category",
         "rawType": "object",
         "type": "string"
        },
        {
         "name": "count",
         "rawType": "int64",
         "type": "integer"
        }
       ],
       "ref": "f75e902a-74a7-4646-a79f-30d02eee6344",
       "rows": [
        [
         "Sedan",
         "8736"
        ],
        [
         "Jeep",
         "5473"
        ],
        [
         "Hatchback",
         "2847"
        ],
        [
         "Minivan",
         "647"
        ],
        [
         "Coupe",
         "532"
        ],
        [
         "Universal",
         "364"
        ],
        [
         "Microbus",
         "306"
        ],
        [
         "Goods wagon",
         "233"
        ],
        [
         "Pickup",
         "52"
        ],
        [
         "Cabriolet",
         "36"
        ],
        [
         "Limousine",
         "11"
        ]
       ],
       "shape": {
        "columns": 1,
        "rows": 11
       }
      },
      "text/plain": [
       "Category\n",
       "Sedan          8736\n",
       "Jeep           5473\n",
       "Hatchback      2847\n",
       "Minivan         647\n",
       "Coupe           532\n",
       "Universal       364\n",
       "Microbus        306\n",
       "Goods wagon     233\n",
       "Pickup           52\n",
       "Cabriolet        36\n",
       "Limousine        11\n",
       "Name: count, dtype: int64"
      ]
     },
     "execution_count": 452,
     "metadata": {},
     "output_type": "execute_result"
    }
   ],
   "source": [
    "df[\"Category\"].value_counts()"
   ]
  },
  {
   "cell_type": "code",
   "execution_count": 453,
   "id": "5242c308",
   "metadata": {},
   "outputs": [],
   "source": [
    "# Category: Convert to category\n",
    "df[\"Category\"] = df[\"Category\"].astype(\"category\")"
   ]
  },
  {
   "cell_type": "code",
   "execution_count": 454,
   "id": "2b20d3c5",
   "metadata": {},
   "outputs": [
    {
     "name": "stderr",
     "output_type": "stream",
     "text": [
      "C:\\Users\\eslam\\AppData\\Local\\Temp\\ipykernel_14436\\3472912381.py:2: FutureWarning: Downcasting behavior in `replace` is deprecated and will be removed in a future version. To retain the old behavior, explicitly call `result.infer_objects(copy=False)`. To opt-in to the future behavior, set `pd.set_option('future.no_silent_downcasting', True)`\n",
      "  df[\"Leather interior\"] = df[\"Leather interior\"].replace(\"Yes\", True).replace(\"No\", False)\n"
     ]
    }
   ],
   "source": [
    "# Leather interior: Convert to bool\n",
    "df[\"Leather interior\"] = df[\"Leather interior\"].replace(\"Yes\", True).replace(\"No\", False)\n",
    "df[\"Leather interior\"] = df[\"Leather interior\"].astype(bool)"
   ]
  },
  {
   "cell_type": "code",
   "execution_count": 455,
   "id": "74fa5dd8",
   "metadata": {},
   "outputs": [],
   "source": [
    "# Fuel type: Convert to category\n",
    "df[\"Fuel type\"] = df[\"Fuel type\"].astype(\"category\")"
   ]
  },
  {
   "cell_type": "code",
   "execution_count": 456,
   "id": "ea36e1e9",
   "metadata": {},
   "outputs": [
    {
     "data": {
      "application/vnd.microsoft.datawrangler.viewer.v0+json": {
       "columns": [
        {
         "name": "Engine volume",
         "rawType": "object",
         "type": "string"
        },
        {
         "name": "count",
         "rawType": "int64",
         "type": "integer"
        }
       ],
       "ref": "4c959f81-fa74-49bf-bb66-c4e7d266d24f",
       "rows": [
        [
         "2",
         "3916"
        ],
        [
         "2.5",
         "2277"
        ],
        [
         "1.8",
         "1760"
        ],
        [
         "1.6",
         "1462"
        ],
        [
         "1.5",
         "1321"
        ],
        [
         "3.5",
         "1228"
        ],
        [
         "2.4",
         "987"
        ],
        [
         "3",
         "823"
        ],
        [
         "1.3",
         "518"
        ],
        [
         "2.0 Turbo",
         "408"
        ],
        [
         "1.4",
         "374"
        ],
        [
         "4.6",
         "370"
        ],
        [
         "3.0 Turbo",
         "278"
        ],
        [
         "2.2",
         "227"
        ],
        [
         "2.2 Turbo",
         "219"
        ],
        [
         "3.3",
         "204"
        ],
        [
         "1.8 Turbo",
         "177"
        ],
        [
         "1.4 Turbo",
         "157"
        ],
        [
         "1.7",
         "157"
        ],
        [
         "3.2",
         "148"
        ],
        [
         "2.7",
         "133"
        ],
        [
         "3.6",
         "123"
        ],
        [
         "1",
         "117"
        ],
        [
         "2.3",
         "116"
        ],
        [
         "1.6 Turbo",
         "116"
        ],
        [
         "4",
         "108"
        ],
        [
         "1.2",
         "101"
        ],
        [
         "4.7",
         "98"
        ],
        [
         "2.5 Turbo",
         "93"
        ],
        [
         "4.4",
         "81"
        ],
        [
         "3.7",
         "79"
        ],
        [
         "1.5 Turbo",
         "72"
        ],
        [
         "5",
         "67"
        ],
        [
         "2.8",
         "58"
        ],
        [
         "5.5",
         "57"
        ],
        [
         "5.7",
         "51"
        ],
        [
         "2.4 Turbo",
         "50"
        ],
        [
         "2.7 Turbo",
         "49"
        ],
        [
         "3.5 Turbo",
         "42"
        ],
        [
         "1.9",
         "39"
        ],
        [
         "1.7 Turbo",
         "38"
        ],
        [
         "4.8",
         "34"
        ],
        [
         "3.8",
         "32"
        ],
        [
         "1.9 Turbo",
         "31"
        ],
        [
         "6.2",
         "25"
        ],
        [
         "4.4 Turbo",
         "25"
        ],
        [
         "3.2 Turbo",
         "24"
        ],
        [
         "0.4",
         "22"
        ],
        [
         "0.7",
         "19"
        ],
        [
         "4.2",
         "18"
        ]
       ],
       "shape": {
        "columns": 1,
        "rows": 107
       }
      },
      "text/plain": [
       "Engine volume\n",
       "2            3916\n",
       "2.5          2277\n",
       "1.8          1760\n",
       "1.6          1462\n",
       "1.5          1321\n",
       "             ... \n",
       "6.8             1\n",
       "6.7             1\n",
       "3.1             1\n",
       "0.8 Turbo       1\n",
       "1.1 Turbo       1\n",
       "Name: count, Length: 107, dtype: int64"
      ]
     },
     "execution_count": 456,
     "metadata": {},
     "output_type": "execute_result"
    }
   ],
   "source": [
    "df[\"Engine volume\"].value_counts()"
   ]
  },
  {
   "cell_type": "code",
   "execution_count": 457,
   "id": "a50c6340",
   "metadata": {},
   "outputs": [],
   "source": [
    "# create a new column \"has_Turbo\"\n",
    "df[\"has_Turbo\"] = df[\"Engine volume\"].str.contains(\"Turbo\")\n",
    "df[\"has_Turbo\"] = df[\"has_Turbo\"].astype(bool)"
   ]
  },
  {
   "cell_type": "code",
   "execution_count": 458,
   "id": "3a3936ef",
   "metadata": {},
   "outputs": [],
   "source": [
    "# Engine volume: Replace \" Turbo\" with \"\" and convert to float\n",
    "df[\"Engine volume\"] = df[\"Engine volume\"].str.replace(\" Turbo\", \"\")\n",
    "df[\"Engine volume\"] = df[\"Engine volume\"].astype(float)"
   ]
  },
  {
   "cell_type": "code",
   "execution_count": 459,
   "id": "ba194482",
   "metadata": {},
   "outputs": [],
   "source": [
    "# Mileage: Replace \" km\" with \"\" and convert to int\n",
    "df[\"Mileage\"] = df[\"Mileage\"].str.replace(\" km\", \"\")\n",
    "df[\"Mileage\"] = df[\"Mileage\"].astype(\"int32\")"
   ]
  },
  {
   "cell_type": "code",
   "execution_count": 460,
   "id": "165fac6e",
   "metadata": {},
   "outputs": [
    {
     "data": {
      "application/vnd.microsoft.datawrangler.viewer.v0+json": {
       "columns": [
        {
         "name": "Cylinders",
         "rawType": "float64",
         "type": "float"
        },
        {
         "name": "count",
         "rawType": "int64",
         "type": "integer"
        }
       ],
       "ref": "27258a88-d870-40dc-b5d6-02afafa6eeec",
       "rows": [
        [
         "4.0",
         "14367"
        ],
        [
         "6.0",
         "3462"
        ],
        [
         "8.0",
         "991"
        ],
        [
         "5.0",
         "169"
        ],
        [
         "3.0",
         "107"
        ],
        [
         "2.0",
         "42"
        ],
        [
         "1.0",
         "38"
        ],
        [
         "12.0",
         "38"
        ],
        [
         "10.0",
         "12"
        ],
        [
         "16.0",
         "5"
        ],
        [
         "7.0",
         "4"
        ],
        [
         "9.0",
         "1"
        ],
        [
         "14.0",
         "1"
        ]
       ],
       "shape": {
        "columns": 1,
        "rows": 13
       }
      },
      "text/plain": [
       "Cylinders\n",
       "4.0     14367\n",
       "6.0      3462\n",
       "8.0       991\n",
       "5.0       169\n",
       "3.0       107\n",
       "2.0        42\n",
       "1.0        38\n",
       "12.0       38\n",
       "10.0       12\n",
       "16.0        5\n",
       "7.0         4\n",
       "9.0         1\n",
       "14.0        1\n",
       "Name: count, dtype: int64"
      ]
     },
     "execution_count": 460,
     "metadata": {},
     "output_type": "execute_result"
    }
   ],
   "source": [
    "df[\"Cylinders\"].value_counts()"
   ]
  },
  {
   "cell_type": "code",
   "execution_count": 461,
   "id": "2a4a63fc",
   "metadata": {},
   "outputs": [],
   "source": [
    "# Cylinders: convert to int\n",
    "df[\"Cylinders\"] = df[\"Cylinders\"].astype(\"int32\")"
   ]
  },
  {
   "cell_type": "code",
   "execution_count": 462,
   "id": "656696b6",
   "metadata": {},
   "outputs": [
    {
     "data": {
      "application/vnd.microsoft.datawrangler.viewer.v0+json": {
       "columns": [
        {
         "name": "Gear box type",
         "rawType": "object",
         "type": "string"
        },
        {
         "name": "count",
         "rawType": "int64",
         "type": "integer"
        }
       ],
       "ref": "d3826124-33fb-40b6-856f-8edd4b561832",
       "rows": [
        [
         "Automatic",
         "13514"
        ],
        [
         "Tiptronic",
         "3102"
        ],
        [
         "Manual",
         "1875"
        ],
        [
         "Variator",
         "746"
        ]
       ],
       "shape": {
        "columns": 1,
        "rows": 4
       }
      },
      "text/plain": [
       "Gear box type\n",
       "Automatic    13514\n",
       "Tiptronic     3102\n",
       "Manual        1875\n",
       "Variator       746\n",
       "Name: count, dtype: int64"
      ]
     },
     "execution_count": 462,
     "metadata": {},
     "output_type": "execute_result"
    }
   ],
   "source": [
    "df[\"Gear box type\"].value_counts()"
   ]
  },
  {
   "cell_type": "code",
   "execution_count": 463,
   "id": "ef9f097b",
   "metadata": {},
   "outputs": [],
   "source": [
    "# Gear box type: Convert to category\n",
    "df[\"Gear box type\"] = df[\"Gear box type\"].astype(\"category\")"
   ]
  },
  {
   "cell_type": "code",
   "execution_count": 464,
   "id": "5a99e65c",
   "metadata": {},
   "outputs": [
    {
     "data": {
      "application/vnd.microsoft.datawrangler.viewer.v0+json": {
       "columns": [
        {
         "name": "Drive wheels",
         "rawType": "object",
         "type": "string"
        },
        {
         "name": "count",
         "rawType": "int64",
         "type": "integer"
        }
       ],
       "ref": "7287b3ae-1555-4d0a-8ea1-d6a37195928d",
       "rows": [
        [
         "Front",
         "12874"
        ],
        [
         "4x4",
         "4058"
        ],
        [
         "Rear",
         "2305"
        ]
       ],
       "shape": {
        "columns": 1,
        "rows": 3
       }
      },
      "text/plain": [
       "Drive wheels\n",
       "Front    12874\n",
       "4x4       4058\n",
       "Rear      2305\n",
       "Name: count, dtype: int64"
      ]
     },
     "execution_count": 464,
     "metadata": {},
     "output_type": "execute_result"
    }
   ],
   "source": [
    "df[\"Drive wheels\"].value_counts()"
   ]
  },
  {
   "cell_type": "code",
   "execution_count": 465,
   "id": "de7d5224",
   "metadata": {},
   "outputs": [],
   "source": [
    "# Drive wheels: Convert to category\n",
    "df[\"Drive wheels\"] = df[\"Drive wheels\"].astype(\"category\")"
   ]
  },
  {
   "cell_type": "code",
   "execution_count": 466,
   "id": "af182552",
   "metadata": {},
   "outputs": [
    {
     "data": {
      "application/vnd.microsoft.datawrangler.viewer.v0+json": {
       "columns": [
        {
         "name": "Doors",
         "rawType": "object",
         "type": "string"
        },
        {
         "name": "count",
         "rawType": "int64",
         "type": "integer"
        }
       ],
       "ref": "a1ae1457-178e-4385-bd33-1e100be72acd",
       "rows": [
        [
         "04-May",
         "18332"
        ],
        [
         "02-Mar",
         "777"
        ],
        [
         ">5",
         "128"
        ]
       ],
       "shape": {
        "columns": 1,
        "rows": 3
       }
      },
      "text/plain": [
       "Doors\n",
       "04-May    18332\n",
       "02-Mar      777\n",
       ">5          128\n",
       "Name: count, dtype: int64"
      ]
     },
     "execution_count": 466,
     "metadata": {},
     "output_type": "execute_result"
    }
   ],
   "source": [
    "df[\"Doors\"].value_counts()"
   ]
  },
  {
   "cell_type": "code",
   "execution_count": 467,
   "id": "299ea33e",
   "metadata": {},
   "outputs": [
    {
     "name": "stderr",
     "output_type": "stream",
     "text": [
      "C:\\Users\\eslam\\AppData\\Local\\Temp\\ipykernel_14436\\1696877081.py:2: FutureWarning: Downcasting behavior in `replace` is deprecated and will be removed in a future version. To retain the old behavior, explicitly call `result.infer_objects(copy=False)`. To opt-in to the future behavior, set `pd.set_option('future.no_silent_downcasting', True)`\n",
      "  df[\"Doors\"] = df[\"Doors\"].replace(\"04-May\", 4).replace(\"02-Mar\", 2).replace(\">5\", 5)\n"
     ]
    }
   ],
   "source": [
    "# Doors: convert to int\n",
    "df[\"Doors\"] = df[\"Doors\"].replace(\"04-May\", 4).replace(\"02-Mar\", 2).replace(\">5\", 5)\n",
    "df[\"Doors\"] = df[\"Doors\"].astype(\"int32\")"
   ]
  },
  {
   "cell_type": "code",
   "execution_count": 468,
   "id": "76552cb1",
   "metadata": {},
   "outputs": [
    {
     "data": {
      "application/vnd.microsoft.datawrangler.viewer.v0+json": {
       "columns": [
        {
         "name": "Wheel",
         "rawType": "object",
         "type": "string"
        },
        {
         "name": "count",
         "rawType": "int64",
         "type": "integer"
        }
       ],
       "ref": "fbf3e7ad-02a8-4633-8187-c13e1c3dc96a",
       "rows": [
        [
         "Left wheel",
         "17753"
        ],
        [
         "Right-hand drive",
         "1484"
        ]
       ],
       "shape": {
        "columns": 1,
        "rows": 2
       }
      },
      "text/plain": [
       "Wheel\n",
       "Left wheel          17753\n",
       "Right-hand drive     1484\n",
       "Name: count, dtype: int64"
      ]
     },
     "execution_count": 468,
     "metadata": {},
     "output_type": "execute_result"
    }
   ],
   "source": [
    "df[\"Wheel\"].value_counts()"
   ]
  },
  {
   "cell_type": "code",
   "execution_count": 469,
   "id": "a37b409d",
   "metadata": {},
   "outputs": [],
   "source": [
    "# Wheel: Handle values and Convert to category\n",
    "df[\"Wheel\"] = df[\"Wheel\"].replace(\"Left wheel\", \"Left\").replace(\"Right-hand drive\", \"Right\")\n",
    "df[\"Wheel\"] = df[\"Wheel\"].astype(\"category\")"
   ]
  },
  {
   "cell_type": "code",
   "execution_count": 470,
   "id": "e800dd61",
   "metadata": {},
   "outputs": [
    {
     "data": {
      "application/vnd.microsoft.datawrangler.viewer.v0+json": {
       "columns": [
        {
         "name": "Color",
         "rawType": "object",
         "type": "string"
        },
        {
         "name": "count",
         "rawType": "int64",
         "type": "integer"
        }
       ],
       "ref": "a655335d-571c-4d52-800f-054f89ac8df6",
       "rows": [
        [
         "Black",
         "5033"
        ],
        [
         "White",
         "4489"
        ],
        [
         "Silver",
         "3792"
        ],
        [
         "Grey",
         "2375"
        ],
        [
         "Blue",
         "1396"
        ],
        [
         "Red",
         "639"
        ],
        [
         "Green",
         "322"
        ],
        [
         "Orange",
         "253"
        ],
        [
         "Brown",
         "187"
        ],
        [
         "Carnelian red",
         "179"
        ],
        [
         "Golden",
         "145"
        ],
        [
         "Beige",
         "134"
        ],
        [
         "Sky blue",
         "122"
        ],
        [
         "Yellow",
         "106"
        ],
        [
         "Purple",
         "39"
        ],
        [
         "Pink",
         "26"
        ]
       ],
       "shape": {
        "columns": 1,
        "rows": 16
       }
      },
      "text/plain": [
       "Color\n",
       "Black            5033\n",
       "White            4489\n",
       "Silver           3792\n",
       "Grey             2375\n",
       "Blue             1396\n",
       "Red               639\n",
       "Green             322\n",
       "Orange            253\n",
       "Brown             187\n",
       "Carnelian red     179\n",
       "Golden            145\n",
       "Beige             134\n",
       "Sky blue          122\n",
       "Yellow            106\n",
       "Purple             39\n",
       "Pink               26\n",
       "Name: count, dtype: int64"
      ]
     },
     "execution_count": 470,
     "metadata": {},
     "output_type": "execute_result"
    }
   ],
   "source": [
    "df[\"Color\"].value_counts()"
   ]
  },
  {
   "cell_type": "code",
   "execution_count": 471,
   "id": "f782ae24",
   "metadata": {},
   "outputs": [],
   "source": [
    "# Color: Convert to category\n",
    "df[\"Color\"] = df[\"Color\"].astype(\"category\")"
   ]
  },
  {
   "cell_type": "code",
   "execution_count": 472,
   "id": "13547357",
   "metadata": {},
   "outputs": [],
   "source": [
    "# Airbags: Convert to int32\n",
    "df[\"Airbags\"] = df[\"Airbags\"].astype(\"int32\")"
   ]
  },
  {
   "cell_type": "code",
   "execution_count": 473,
   "id": "d0af9a7c",
   "metadata": {},
   "outputs": [],
   "source": [
    "# Prod. year: convert to int\n",
    "# Price: convert to int\n",
    "df[\"Prod. year\"] = df[\"Prod. year\"].astype(\"int32\")\n",
    "df[\"Price\"] = df[\"Price\"].astype(\"int32\")"
   ]
  },
  {
   "cell_type": "code",
   "execution_count": 474,
   "id": "00603aac",
   "metadata": {},
   "outputs": [
    {
     "data": {
      "application/vnd.microsoft.datawrangler.viewer.v0+json": {
       "columns": [
        {
         "name": "index",
         "rawType": "int64",
         "type": "integer"
        },
        {
         "name": "ID",
         "rawType": "int64",
         "type": "integer"
        },
        {
         "name": "Price",
         "rawType": "int32",
         "type": "integer"
        },
        {
         "name": "Levy",
         "rawType": "int32",
         "type": "integer"
        },
        {
         "name": "Manufacturer",
         "rawType": "object",
         "type": "string"
        },
        {
         "name": "Model",
         "rawType": "object",
         "type": "string"
        },
        {
         "name": "Prod. year",
         "rawType": "int32",
         "type": "integer"
        },
        {
         "name": "Category",
         "rawType": "category",
         "type": "unknown"
        },
        {
         "name": "Leather interior",
         "rawType": "bool",
         "type": "boolean"
        },
        {
         "name": "Fuel type",
         "rawType": "category",
         "type": "unknown"
        },
        {
         "name": "Engine volume",
         "rawType": "float64",
         "type": "float"
        },
        {
         "name": "Mileage",
         "rawType": "int32",
         "type": "integer"
        },
        {
         "name": "Cylinders",
         "rawType": "int32",
         "type": "integer"
        },
        {
         "name": "Gear box type",
         "rawType": "category",
         "type": "unknown"
        },
        {
         "name": "Drive wheels",
         "rawType": "category",
         "type": "unknown"
        },
        {
         "name": "Doors",
         "rawType": "int32",
         "type": "integer"
        },
        {
         "name": "Wheel",
         "rawType": "category",
         "type": "unknown"
        },
        {
         "name": "Color",
         "rawType": "category",
         "type": "unknown"
        },
        {
         "name": "Airbags",
         "rawType": "int32",
         "type": "integer"
        },
        {
         "name": "has_Turbo",
         "rawType": "bool",
         "type": "boolean"
        }
       ],
       "ref": "817153e1-60c7-48e2-9262-61cd56a613a2",
       "rows": [
        [
         "0",
         "45654403",
         "13328",
         "1399",
         "LEXUS",
         "RX 450",
         "2010",
         "Jeep",
         "True",
         "Hybrid",
         "3.5",
         "186005",
         "6",
         "Automatic",
         "4x4",
         "4",
         "Left",
         "Silver",
         "12",
         "False"
        ],
        [
         "1",
         "44731507",
         "16621",
         "1018",
         "CHEVROLET",
         "Equinox",
         "2011",
         "Jeep",
         "False",
         "Petrol",
         "3.0",
         "192000",
         "6",
         "Tiptronic",
         "4x4",
         "4",
         "Left",
         "Black",
         "8",
         "False"
        ],
        [
         "2",
         "45774419",
         "8467",
         "0",
         "HONDA",
         "FIT",
         "2006",
         "Hatchback",
         "False",
         "Petrol",
         "1.3",
         "200000",
         "4",
         "Variator",
         "Front",
         "4",
         "Right",
         "Black",
         "2",
         "False"
        ],
        [
         "3",
         "45769185",
         "3607",
         "862",
         "FORD",
         "Escape",
         "2011",
         "Jeep",
         "True",
         "Hybrid",
         "2.5",
         "168966",
         "4",
         "Automatic",
         "4x4",
         "4",
         "Left",
         "White",
         "0",
         "False"
        ],
        [
         "4",
         "45809263",
         "11726",
         "446",
         "HONDA",
         "FIT",
         "2014",
         "Hatchback",
         "True",
         "Petrol",
         "1.3",
         "91901",
         "4",
         "Automatic",
         "Front",
         "4",
         "Left",
         "Silver",
         "4",
         "False"
        ]
       ],
       "shape": {
        "columns": 19,
        "rows": 5
       }
      },
      "text/html": [
       "<div>\n",
       "<style scoped>\n",
       "    .dataframe tbody tr th:only-of-type {\n",
       "        vertical-align: middle;\n",
       "    }\n",
       "\n",
       "    .dataframe tbody tr th {\n",
       "        vertical-align: top;\n",
       "    }\n",
       "\n",
       "    .dataframe thead th {\n",
       "        text-align: right;\n",
       "    }\n",
       "</style>\n",
       "<table border=\"1\" class=\"dataframe\">\n",
       "  <thead>\n",
       "    <tr style=\"text-align: right;\">\n",
       "      <th></th>\n",
       "      <th>ID</th>\n",
       "      <th>Price</th>\n",
       "      <th>Levy</th>\n",
       "      <th>Manufacturer</th>\n",
       "      <th>Model</th>\n",
       "      <th>Prod. year</th>\n",
       "      <th>Category</th>\n",
       "      <th>Leather interior</th>\n",
       "      <th>Fuel type</th>\n",
       "      <th>Engine volume</th>\n",
       "      <th>Mileage</th>\n",
       "      <th>Cylinders</th>\n",
       "      <th>Gear box type</th>\n",
       "      <th>Drive wheels</th>\n",
       "      <th>Doors</th>\n",
       "      <th>Wheel</th>\n",
       "      <th>Color</th>\n",
       "      <th>Airbags</th>\n",
       "      <th>has_Turbo</th>\n",
       "    </tr>\n",
       "  </thead>\n",
       "  <tbody>\n",
       "    <tr>\n",
       "      <th>0</th>\n",
       "      <td>45654403</td>\n",
       "      <td>13328</td>\n",
       "      <td>1399</td>\n",
       "      <td>LEXUS</td>\n",
       "      <td>RX 450</td>\n",
       "      <td>2010</td>\n",
       "      <td>Jeep</td>\n",
       "      <td>True</td>\n",
       "      <td>Hybrid</td>\n",
       "      <td>3.5</td>\n",
       "      <td>186005</td>\n",
       "      <td>6</td>\n",
       "      <td>Automatic</td>\n",
       "      <td>4x4</td>\n",
       "      <td>4</td>\n",
       "      <td>Left</td>\n",
       "      <td>Silver</td>\n",
       "      <td>12</td>\n",
       "      <td>False</td>\n",
       "    </tr>\n",
       "    <tr>\n",
       "      <th>1</th>\n",
       "      <td>44731507</td>\n",
       "      <td>16621</td>\n",
       "      <td>1018</td>\n",
       "      <td>CHEVROLET</td>\n",
       "      <td>Equinox</td>\n",
       "      <td>2011</td>\n",
       "      <td>Jeep</td>\n",
       "      <td>False</td>\n",
       "      <td>Petrol</td>\n",
       "      <td>3.0</td>\n",
       "      <td>192000</td>\n",
       "      <td>6</td>\n",
       "      <td>Tiptronic</td>\n",
       "      <td>4x4</td>\n",
       "      <td>4</td>\n",
       "      <td>Left</td>\n",
       "      <td>Black</td>\n",
       "      <td>8</td>\n",
       "      <td>False</td>\n",
       "    </tr>\n",
       "    <tr>\n",
       "      <th>2</th>\n",
       "      <td>45774419</td>\n",
       "      <td>8467</td>\n",
       "      <td>0</td>\n",
       "      <td>HONDA</td>\n",
       "      <td>FIT</td>\n",
       "      <td>2006</td>\n",
       "      <td>Hatchback</td>\n",
       "      <td>False</td>\n",
       "      <td>Petrol</td>\n",
       "      <td>1.3</td>\n",
       "      <td>200000</td>\n",
       "      <td>4</td>\n",
       "      <td>Variator</td>\n",
       "      <td>Front</td>\n",
       "      <td>4</td>\n",
       "      <td>Right</td>\n",
       "      <td>Black</td>\n",
       "      <td>2</td>\n",
       "      <td>False</td>\n",
       "    </tr>\n",
       "    <tr>\n",
       "      <th>3</th>\n",
       "      <td>45769185</td>\n",
       "      <td>3607</td>\n",
       "      <td>862</td>\n",
       "      <td>FORD</td>\n",
       "      <td>Escape</td>\n",
       "      <td>2011</td>\n",
       "      <td>Jeep</td>\n",
       "      <td>True</td>\n",
       "      <td>Hybrid</td>\n",
       "      <td>2.5</td>\n",
       "      <td>168966</td>\n",
       "      <td>4</td>\n",
       "      <td>Automatic</td>\n",
       "      <td>4x4</td>\n",
       "      <td>4</td>\n",
       "      <td>Left</td>\n",
       "      <td>White</td>\n",
       "      <td>0</td>\n",
       "      <td>False</td>\n",
       "    </tr>\n",
       "    <tr>\n",
       "      <th>4</th>\n",
       "      <td>45809263</td>\n",
       "      <td>11726</td>\n",
       "      <td>446</td>\n",
       "      <td>HONDA</td>\n",
       "      <td>FIT</td>\n",
       "      <td>2014</td>\n",
       "      <td>Hatchback</td>\n",
       "      <td>True</td>\n",
       "      <td>Petrol</td>\n",
       "      <td>1.3</td>\n",
       "      <td>91901</td>\n",
       "      <td>4</td>\n",
       "      <td>Automatic</td>\n",
       "      <td>Front</td>\n",
       "      <td>4</td>\n",
       "      <td>Left</td>\n",
       "      <td>Silver</td>\n",
       "      <td>4</td>\n",
       "      <td>False</td>\n",
       "    </tr>\n",
       "  </tbody>\n",
       "</table>\n",
       "</div>"
      ],
      "text/plain": [
       "         ID  Price  Levy Manufacturer    Model  Prod. year   Category  \\\n",
       "0  45654403  13328  1399        LEXUS   RX 450        2010       Jeep   \n",
       "1  44731507  16621  1018    CHEVROLET  Equinox        2011       Jeep   \n",
       "2  45774419   8467     0        HONDA      FIT        2006  Hatchback   \n",
       "3  45769185   3607   862         FORD   Escape        2011       Jeep   \n",
       "4  45809263  11726   446        HONDA      FIT        2014  Hatchback   \n",
       "\n",
       "   Leather interior Fuel type  Engine volume  Mileage  Cylinders  \\\n",
       "0              True    Hybrid            3.5   186005          6   \n",
       "1             False    Petrol            3.0   192000          6   \n",
       "2             False    Petrol            1.3   200000          4   \n",
       "3              True    Hybrid            2.5   168966          4   \n",
       "4              True    Petrol            1.3    91901          4   \n",
       "\n",
       "  Gear box type Drive wheels  Doors  Wheel   Color  Airbags  has_Turbo  \n",
       "0     Automatic          4x4      4   Left  Silver       12      False  \n",
       "1     Tiptronic          4x4      4   Left   Black        8      False  \n",
       "2      Variator        Front      4  Right   Black        2      False  \n",
       "3     Automatic          4x4      4   Left   White        0      False  \n",
       "4     Automatic        Front      4   Left  Silver        4      False  "
      ]
     },
     "execution_count": 474,
     "metadata": {},
     "output_type": "execute_result"
    }
   ],
   "source": [
    "df.head()"
   ]
  },
  {
   "cell_type": "code",
   "execution_count": 475,
   "id": "0350eddd",
   "metadata": {},
   "outputs": [
    {
     "name": "stdout",
     "output_type": "stream",
     "text": [
      "<class 'pandas.core.frame.DataFrame'>\n",
      "RangeIndex: 19237 entries, 0 to 19236\n",
      "Data columns (total 19 columns):\n",
      " #   Column            Non-Null Count  Dtype   \n",
      "---  ------            --------------  -----   \n",
      " 0   ID                19237 non-null  int64   \n",
      " 1   Price             19237 non-null  int32   \n",
      " 2   Levy              19237 non-null  int32   \n",
      " 3   Manufacturer      19237 non-null  object  \n",
      " 4   Model             19237 non-null  object  \n",
      " 5   Prod. year        19237 non-null  int32   \n",
      " 6   Category          19237 non-null  category\n",
      " 7   Leather interior  19237 non-null  bool    \n",
      " 8   Fuel type         19237 non-null  category\n",
      " 9   Engine volume     19237 non-null  float64 \n",
      " 10  Mileage           19237 non-null  int32   \n",
      " 11  Cylinders         19237 non-null  int32   \n",
      " 12  Gear box type     19237 non-null  category\n",
      " 13  Drive wheels      19237 non-null  category\n",
      " 14  Doors             19237 non-null  int32   \n",
      " 15  Wheel             19237 non-null  category\n",
      " 16  Color             19237 non-null  category\n",
      " 17  Airbags           19237 non-null  int32   \n",
      " 18  has_Turbo         19237 non-null  bool    \n",
      "dtypes: bool(2), category(6), float64(1), int32(7), int64(1), object(2)\n",
      "memory usage: 1.2+ MB\n"
     ]
    }
   ],
   "source": [
    "df.info()"
   ]
  },
  {
   "cell_type": "markdown",
   "id": "0c179f46",
   "metadata": {},
   "source": [
    "----"
   ]
  },
  {
   "cell_type": "markdown",
   "id": "ebf59f0c",
   "metadata": {},
   "source": [
    "**Handle Missing Values:**"
   ]
  },
  {
   "cell_type": "code",
   "execution_count": 476,
   "id": "0dfc2dad",
   "metadata": {},
   "outputs": [
    {
     "data": {
      "application/vnd.microsoft.datawrangler.viewer.v0+json": {
       "columns": [
        {
         "name": "index",
         "rawType": "object",
         "type": "string"
        },
        {
         "name": "0",
         "rawType": "int64",
         "type": "integer"
        }
       ],
       "ref": "8ea0f45b-ee4c-4da9-9285-c795e2cec472",
       "rows": [
        [
         "ID",
         "0"
        ],
        [
         "Price",
         "0"
        ],
        [
         "Levy",
         "0"
        ],
        [
         "Manufacturer",
         "0"
        ],
        [
         "Model",
         "0"
        ],
        [
         "Prod. year",
         "0"
        ],
        [
         "Category",
         "0"
        ],
        [
         "Leather interior",
         "0"
        ],
        [
         "Fuel type",
         "0"
        ],
        [
         "Engine volume",
         "0"
        ],
        [
         "Mileage",
         "0"
        ],
        [
         "Cylinders",
         "0"
        ],
        [
         "Gear box type",
         "0"
        ],
        [
         "Drive wheels",
         "0"
        ],
        [
         "Doors",
         "0"
        ],
        [
         "Wheel",
         "0"
        ],
        [
         "Color",
         "0"
        ],
        [
         "Airbags",
         "0"
        ],
        [
         "has_Turbo",
         "0"
        ]
       ],
       "shape": {
        "columns": 1,
        "rows": 19
       }
      },
      "text/plain": [
       "ID                  0\n",
       "Price               0\n",
       "Levy                0\n",
       "Manufacturer        0\n",
       "Model               0\n",
       "Prod. year          0\n",
       "Category            0\n",
       "Leather interior    0\n",
       "Fuel type           0\n",
       "Engine volume       0\n",
       "Mileage             0\n",
       "Cylinders           0\n",
       "Gear box type       0\n",
       "Drive wheels        0\n",
       "Doors               0\n",
       "Wheel               0\n",
       "Color               0\n",
       "Airbags             0\n",
       "has_Turbo           0\n",
       "dtype: int64"
      ]
     },
     "execution_count": 476,
     "metadata": {},
     "output_type": "execute_result"
    }
   ],
   "source": [
    "df.isna().sum()"
   ]
  },
  {
   "cell_type": "markdown",
   "id": "83238152",
   "metadata": {},
   "source": [
    "----"
   ]
  },
  {
   "cell_type": "markdown",
   "id": "94eb9ea1",
   "metadata": {},
   "source": [
    "**Handle Duplicates:**"
   ]
  },
  {
   "cell_type": "code",
   "execution_count": 477,
   "id": "d6b59cbd",
   "metadata": {},
   "outputs": [
    {
     "data": {
      "text/plain": [
       "313"
      ]
     },
     "execution_count": 477,
     "metadata": {},
     "output_type": "execute_result"
    }
   ],
   "source": [
    "df.duplicated().sum()"
   ]
  },
  {
   "cell_type": "code",
   "execution_count": 478,
   "id": "f9eed2fa",
   "metadata": {},
   "outputs": [],
   "source": [
    "df.drop_duplicates(inplace=True)"
   ]
  },
  {
   "cell_type": "markdown",
   "id": "e4562453",
   "metadata": {},
   "source": [
    "----"
   ]
  },
  {
   "cell_type": "markdown",
   "id": "ccc0fc92",
   "metadata": {},
   "source": [
    "**Handle Outliers:**"
   ]
  },
  {
   "cell_type": "code",
   "execution_count": 479,
   "id": "adfbb1cd",
   "metadata": {},
   "outputs": [
    {
     "data": {
      "image/png": "[encoded data removed]",
      "text/plain": [
       "<Figure size 640x480 with 1 Axes>"
      ]
     },
     "metadata": {},
     "output_type": "display_data"
    }
   ],
   "source": [
    "plt.boxplot(df[\"Price\"])\n",
    "plt.show()"
   ]
  },
  {
   "cell_type": "code",
   "execution_count": 480,
   "id": "fb21e419",
   "metadata": {},
   "outputs": [],
   "source": [
    "numeric_cols = [col for col in df.columns if df[col].dtypes == 'int32' or df[col].dtypes == 'int64']\n",
    "categorical_cols = [col for col in df.columns if df[col].dtypes == \"category\" or df[col].dtypes == \"O\"]"
   ]
  },
  {
   "cell_type": "code",
   "execution_count": 481,
   "id": "7202b90e",
   "metadata": {},
   "outputs": [
    {
     "name": "stdout",
     "output_type": "stream",
     "text": [
      "Column: ID, Outliers: 2460\n",
      "Column: Price, Outliers: 1055\n",
      "Column: Levy, Outliers: 160\n",
      "Column: Prod. year, Outliers: 962\n",
      "Column: Mileage, Outliers: 635\n",
      "Column: Cylinders, Outliers: 4765\n",
      "Column: Doors, Outliers: 892\n",
      "Column: Airbags, Outliers: 0\n"
     ]
    }
   ],
   "source": [
    "outliers_summary = {}\n",
    "for col in numeric_cols:\n",
    "    Q1 = df[col].quantile(0.25)  \n",
    "    Q3 = df[col].quantile(0.75)  \n",
    "    IQR = Q3 - Q1                  \n",
    "   \n",
    "    lower_bound = Q1 - 1.5 * IQR\n",
    "    upper_bound = Q3 + 1.5 * IQR\n",
    "    \n",
    "    \n",
    "    outliers = df[(df[col] < lower_bound) | (df[col] > upper_bound)]\n",
    "    outliers_count = outliers.shape[0]\n",
    "    outliers_summary[col] = outliers_count\n",
    "\n",
    "for col, count in outliers_summary.items():\n",
    "    print(f\"Column: {col}, Outliers: {count}\")"
   ]
  },
  {
   "cell_type": "code",
   "execution_count": 482,
   "id": "cb516279",
   "metadata": {},
   "outputs": [],
   "source": [
    "for col in [\"Price\",\"Levy\"]:\n",
    "    Q1 = df[col].quantile(0.25)  \n",
    "    Q3 = df[col].quantile(0.75)  \n",
    "    IQR = Q3 - Q1                  \n",
    "   \n",
    "    lower_bound = Q1 - 1.5 * IQR\n",
    "    upper_bound = Q3 + 1.5 * IQR\n",
    "    \n",
    "    df = df[(df[col] >= lower_bound) & (df[col] <= upper_bound)]"
   ]
  },
  {
   "cell_type": "code",
   "execution_count": 483,
   "id": "c5a66a49",
   "metadata": {},
   "outputs": [
    {
     "data": {
      "text/plain": [
       "(17708, 19)"
      ]
     },
     "execution_count": 483,
     "metadata": {},
     "output_type": "execute_result"
    }
   ],
   "source": [
    "df.shape"
   ]
  },
  {
   "cell_type": "code",
   "execution_count": 484,
   "id": "b9213350",
   "metadata": {},
   "outputs": [
    {
     "data": {
      "image/png": "[encoded data removed]",
      "text/plain": [
       "<Figure size 640x480 with 1 Axes>"
      ]
     },
     "metadata": {},
     "output_type": "display_data"
    }
   ],
   "source": [
    "plt.boxplot(df[\"Price\"])\n",
    "plt.show()"
   ]
  },
  {
   "cell_type": "code",
   "execution_count": 485,
   "id": "eb5520ef",
   "metadata": {},
   "outputs": [],
   "source": [
    "df.to_csv(\"Data/car_prices_cleaned.csv\", index=False)"
   ]
  },
  {
   "cell_type": "markdown",
   "id": "4226d80c",
   "metadata": {},
   "source": [
    "----"
   ]
  },
  {
   "cell_type": "markdown",
   "id": "49a10cb1",
   "metadata": {},
   "source": [
    "**Encoding Data:**"
   ]
  },
  {
   "cell_type": "code",
   "execution_count": 486,
   "id": "7031ebdd",
   "metadata": {},
   "outputs": [],
   "source": [
    "df_encoded = df.copy()\n",
    "df_encoded.drop(\"ID\", axis=1, inplace=True)"
   ]
  },
  {
   "cell_type": "code",
   "execution_count": 487,
   "id": "996c7783",
   "metadata": {},
   "outputs": [],
   "source": [
    "# label encoding\n",
    "from sklearn.preprocessing import LabelEncoder\n",
    "\n",
    "le = LabelEncoder()\n",
    "df_encoded[\"Wheel\"] = le.fit_transform(df_encoded[\"Wheel\"])"
   ]
  },
  {
   "cell_type": "code",
   "execution_count": 488,
   "id": "613cc415",
   "metadata": {},
   "outputs": [],
   "source": [
    "# one hot encoding to columns [\"Gear box type\",\"Drive wheels\",\"Fuel type\",\"Color\",\"Category\"]\n",
    "df_encoded = pd.get_dummies(df_encoded, columns=[\"Gear box type\",\"Drive wheels\",\"Fuel type\",\"Color\",\"Category\"], drop_first=True)"
   ]
  },
  {
   "cell_type": "code",
   "execution_count": 489,
   "id": "ec43b64c",
   "metadata": {},
   "outputs": [],
   "source": [
    "# Target encoding to column [\"Manufacturer\",\"Model\"]\n",
    "from category_encoders import TargetEncoder\n",
    "\n",
    "mean_target = df_encoded.groupby(\"Manufacturer\")[\"Price\"].mean()\n",
    "df_encoded[\"Manufacturer_target\"] = df_encoded[\"Manufacturer\"].map(mean_target)\n",
    "df_encoded.drop(\"Manufacturer\", axis=1, inplace=True)\n",
    "\n",
    "y = df_encoded[\"Price\"]\n",
    "X = df_encoded.drop(columns=[\"Price\"])\n",
    "encoder = TargetEncoder(cols=[\"Model\"], smoothing=10)\n",
    "X_model_enc = encoder.fit_transform(X, y)\n",
    "df_encoded = pd.concat([X_model_enc, y], axis=1)"
   ]
  },
  {
   "cell_type": "code",
   "execution_count": 490,
   "id": "feacc63a",
   "metadata": {},
   "outputs": [
    {
     "data": {
      "application/vnd.microsoft.datawrangler.viewer.v0+json": {
       "columns": [
        {
         "name": "index",
         "rawType": "int64",
         "type": "integer"
        },
        {
         "name": "Levy",
         "rawType": "int32",
         "type": "integer"
        },
        {
         "name": "Model",
         "rawType": "float64",
         "type": "float"
        },
        {
         "name": "Prod. year",
         "rawType": "int32",
         "type": "integer"
        },
        {
         "name": "Leather interior",
         "rawType": "bool",
         "type": "boolean"
        },
        {
         "name": "Engine volume",
         "rawType": "float64",
         "type": "float"
        },
        {
         "name": "Mileage",
         "rawType": "int32",
         "type": "integer"
        },
        {
         "name": "Cylinders",
         "rawType": "int32",
         "type": "integer"
        },
        {
         "name": "Doors",
         "rawType": "int32",
         "type": "integer"
        },
        {
         "name": "Wheel",
         "rawType": "int32",
         "type": "integer"
        },
        {
         "name": "Airbags",
         "rawType": "int32",
         "type": "integer"
        },
        {
         "name": "has_Turbo",
         "rawType": "bool",
         "type": "boolean"
        },
        {
         "name": "Gear box type_Manual",
         "rawType": "bool",
         "type": "boolean"
        },
        {
         "name": "Gear box type_Tiptronic",
         "rawType": "bool",
         "type": "boolean"
        },
        {
         "name": "Gear box type_Variator",
         "rawType": "bool",
         "type": "boolean"
        },
        {
         "name": "Drive wheels_Front",
         "rawType": "bool",
         "type": "boolean"
        },
        {
         "name": "Drive wheels_Rear",
         "rawType": "bool",
         "type": "boolean"
        },
        {
         "name": "Fuel type_Diesel",
         "rawType": "bool",
         "type": "boolean"
        },
        {
         "name": "Fuel type_Hybrid",
         "rawType": "bool",
         "type": "boolean"
        },
        {
         "name": "Fuel type_Hydrogen",
         "rawType": "bool",
         "type": "boolean"
        },
        {
         "name": "Fuel type_LPG",
         "rawType": "bool",
         "type": "boolean"
        },
        {
         "name": "Fuel type_Petrol",
         "rawType": "bool",
         "type": "boolean"
        },
        {
         "name": "Fuel type_Plug-in Hybrid",
         "rawType": "bool",
         "type": "boolean"
        },
        {
         "name": "Color_Black",
         "rawType": "bool",
         "type": "boolean"
        },
        {
         "name": "Color_Blue",
         "rawType": "bool",
         "type": "boolean"
        },
        {
         "name": "Color_Brown",
         "rawType": "bool",
         "type": "boolean"
        },
        {
         "name": "Color_Carnelian red",
         "rawType": "bool",
         "type": "boolean"
        },
        {
         "name": "Color_Golden",
         "rawType": "bool",
         "type": "boolean"
        },
        {
         "name": "Color_Green",
         "rawType": "bool",
         "type": "boolean"
        },
        {
         "name": "Color_Grey",
         "rawType": "bool",
         "type": "boolean"
        },
        {
         "name": "Color_Orange",
         "rawType": "bool",
         "type": "boolean"
        },
        {
         "name": "Color_Pink",
         "rawType": "bool",
         "type": "boolean"
        },
        {
         "name": "Color_Purple",
         "rawType": "bool",
         "type": "boolean"
        },
        {
         "name": "Color_Red",
         "rawType": "bool",
         "type": "boolean"
        },
        {
         "name": "Color_Silver",
         "rawType": "bool",
         "type": "boolean"
        },
        {
         "name": "Color_Sky blue",
         "rawType": "bool",
         "type": "boolean"
        },
        {
         "name": "Color_White",
         "rawType": "bool",
         "type": "boolean"
        },
        {
         "name": "Color_Yellow",
         "rawType": "bool",
         "type": "boolean"
        },
        {
         "name": "Category_Coupe",
         "rawType": "bool",
         "type": "boolean"
        },
        {
         "name": "Category_Goods wagon",
         "rawType": "bool",
         "type": "boolean"
        },
        {
         "name": "Category_Hatchback",
         "rawType": "bool",
         "type": "boolean"
        },
        {
         "name": "Category_Jeep",
         "rawType": "bool",
         "type": "boolean"
        },
        {
         "name": "Category_Limousine",
         "rawType": "bool",
         "type": "boolean"
        },
        {
         "name": "Category_Microbus",
         "rawType": "bool",
         "type": "boolean"
        },
        {
         "name": "Category_Minivan",
         "rawType": "bool",
         "type": "boolean"
        },
        {
         "name": "Category_Pickup",
         "rawType": "bool",
         "type": "boolean"
        },
        {
         "name": "Category_Sedan",
         "rawType": "bool",
         "type": "boolean"
        },
        {
         "name": "Category_Universal",
         "rawType": "bool",
         "type": "boolean"
        },
        {
         "name": "Manufacturer_target",
         "rawType": "float64",
         "type": "float"
        },
        {
         "name": "Price",
         "rawType": "int32",
         "type": "integer"
        }
       ],
       "ref": "b766d848-bfea-46ae-80e9-6000a3ac6748",
       "rows": [
        [
         "0",
         "1399",
         "7109.893637246479",
         "2010",
         "True",
         "3.5",
         "186005",
         "6",
         "4",
         "0",
         "12",
         "False",
         "False",
         "False",
         "False",
         "False",
         "False",
         "False",
         "True",
         "False",
         "False",
         "False",
         "False",
         "False",
         "False",
         "False",
         "False",
         "False",
         "False",
         "False",
         "False",
         "False",
         "False",
         "False",
         "True",
         "False",
         "False",
         "False",
         "False",
         "False",
         "False",
         "True",
         "False",
         "False",
         "False",
         "False",
         "False",
         "False",
         "12667.128947368421",
         "13328"
        ],
        [
         "1",
         "1018",
         "10796.543031398238",
         "2011",
         "False",
         "3.0",
         "192000",
         "6",
         "4",
         "0",
         "8",
         "False",
         "False",
         "True",
         "False",
         "False",
         "False",
         "False",
         "False",
         "False",
         "False",
         "True",
         "False",
         "True",
         "False",
         "False",
         "False",
         "False",
         "False",
         "False",
         "False",
         "False",
         "False",
         "False",
         "False",
         "False",
         "False",
         "False",
         "False",
         "False",
         "False",
         "True",
         "False",
         "False",
         "False",
         "False",
         "False",
         "False",
         "13745.235236220473",
         "16621"
        ],
        [
         "2",
         "0",
         "10800.315909090908",
         "2006",
         "False",
         "1.3",
         "200000",
         "4",
         "4",
         "1",
         "2",
         "False",
         "False",
         "False",
         "True",
         "True",
         "False",
         "False",
         "False",
         "False",
         "False",
         "True",
         "False",
         "True",
         "False",
         "False",
         "False",
         "False",
         "False",
         "False",
         "False",
         "False",
         "False",
         "False",
         "False",
         "False",
         "False",
         "False",
         "False",
         "False",
         "True",
         "False",
         "False",
         "False",
         "False",
         "False",
         "False",
         "False",
         "11076.445067264574",
         "8467"
        ],
        [
         "3",
         "862",
         "8172.567880620854",
         "2011",
         "True",
         "2.5",
         "168966",
         "4",
         "4",
         "0",
         "0",
         "False",
         "False",
         "False",
         "False",
         "False",
         "False",
         "False",
         "True",
         "False",
         "False",
         "False",
         "False",
         "False",
         "False",
         "False",
         "False",
         "False",
         "False",
         "False",
         "False",
         "False",
         "False",
         "False",
         "False",
         "False",
         "True",
         "False",
         "False",
         "False",
         "False",
         "True",
         "False",
         "False",
         "False",
         "False",
         "False",
         "False",
         "12232.050682261208",
         "3607"
        ],
        [
         "4",
         "446",
         "10800.315909090908",
         "2014",
         "True",
         "1.3",
         "91901",
         "4",
         "4",
         "0",
         "4",
         "False",
         "False",
         "False",
         "False",
         "True",
         "False",
         "False",
         "False",
         "False",
         "False",
         "True",
         "False",
         "False",
         "False",
         "False",
         "False",
         "False",
         "False",
         "False",
         "False",
         "False",
         "False",
         "False",
         "True",
         "False",
         "False",
         "False",
         "False",
         "False",
         "True",
         "False",
         "False",
         "False",
         "False",
         "False",
         "False",
         "False",
         "11076.445067264574",
         "11726"
        ]
       ],
       "shape": {
        "columns": 49,
        "rows": 5
       }
      },
      "text/html": [
       "<div>\n",
       "<style scoped>\n",
       "    .dataframe tbody tr th:only-of-type {\n",
       "        vertical-align: middle;\n",
       "    }\n",
       "\n",
       "    .dataframe tbody tr th {\n",
       "        vertical-align: top;\n",
       "    }\n",
       "\n",
       "    .dataframe thead th {\n",
       "        text-align: right;\n",
       "    }\n",
       "</style>\n",
       "<table border=\"1\" class=\"dataframe\">\n",
       "  <thead>\n",
       "    <tr style=\"text-align: right;\">\n",
       "      <th></th>\n",
       "      <th>Levy</th>\n",
       "      <th>Model</th>\n",
       "      <th>Prod. year</th>\n",
       "      <th>Leather interior</th>\n",
       "      <th>Engine volume</th>\n",
       "      <th>Mileage</th>\n",
       "      <th>Cylinders</th>\n",
       "      <th>Doors</th>\n",
       "      <th>Wheel</th>\n",
       "      <th>Airbags</th>\n",
       "      <th>...</th>\n",
       "      <th>Category_Hatchback</th>\n",
       "      <th>Category_Jeep</th>\n",
       "      <th>Category_Limousine</th>\n",
       "      <th>Category_Microbus</th>\n",
       "      <th>Category_Minivan</th>\n",
       "      <th>Category_Pickup</th>\n",
       "      <th>Category_Sedan</th>\n",
       "      <th>Category_Universal</th>\n",
       "      <th>Manufacturer_target</th>\n",
       "      <th>Price</th>\n",
       "    </tr>\n",
       "  </thead>\n",
       "  <tbody>\n",
       "    <tr>\n",
       "      <th>0</th>\n",
       "      <td>1399</td>\n",
       "      <td>7109.893637</td>\n",
       "      <td>2010</td>\n",
       "      <td>True</td>\n",
       "      <td>3.5</td>\n",
       "      <td>186005</td>\n",
       "      <td>6</td>\n",
       "      <td>4</td>\n",
       "      <td>0</td>\n",
       "      <td>12</td>\n",
       "      <td>...</td>\n",
       "      <td>False</td>\n",
       "      <td>True</td>\n",
       "      <td>False</td>\n",
       "      <td>False</td>\n",
       "      <td>False</td>\n",
       "      <td>False</td>\n",
       "      <td>False</td>\n",
       "      <td>False</td>\n",
       "      <td>12667.128947</td>\n",
       "      <td>13328</td>\n",
       "    </tr>\n",
       "    <tr>\n",
       "      <th>1</th>\n",
       "      <td>1018</td>\n",
       "      <td>10796.543031</td>\n",
       "      <td>2011</td>\n",
       "      <td>False</td>\n",
       "      <td>3.0</td>\n",
       "      <td>192000</td>\n",
       "      <td>6</td>\n",
       "      <td>4</td>\n",
       "      <td>0</td>\n",
       "      <td>8</td>\n",
       "      <td>...</td>\n",
       "      <td>False</td>\n",
       "      <td>True</td>\n",
       "      <td>False</td>\n",
       "      <td>False</td>\n",
       "      <td>False</td>\n",
       "      <td>False</td>\n",
       "      <td>False</td>\n",
       "      <td>False</td>\n",
       "      <td>13745.235236</td>\n",
       "      <td>16621</td>\n",
       "    </tr>\n",
       "    <tr>\n",
       "      <th>2</th>\n",
       "      <td>0</td>\n",
       "      <td>10800.315909</td>\n",
       "      <td>2006</td>\n",
       "      <td>False</td>\n",
       "      <td>1.3</td>\n",
       "      <td>200000</td>\n",
       "      <td>4</td>\n",
       "      <td>4</td>\n",
       "      <td>1</td>\n",
       "      <td>2</td>\n",
       "      <td>...</td>\n",
       "      <td>True</td>\n",
       "      <td>False</td>\n",
       "      <td>False</td>\n",
       "      <td>False</td>\n",
       "      <td>False</td>\n",
       "      <td>False</td>\n",
       "      <td>False</td>\n",
       "      <td>False</td>\n",
       "      <td>11076.445067</td>\n",
       "      <td>8467</td>\n",
       "    </tr>\n",
       "    <tr>\n",
       "      <th>3</th>\n",
       "      <td>862</td>\n",
       "      <td>8172.567881</td>\n",
       "      <td>2011</td>\n",
       "      <td>True</td>\n",
       "      <td>2.5</td>\n",
       "      <td>168966</td>\n",
       "      <td>4</td>\n",
       "      <td>4</td>\n",
       "      <td>0</td>\n",
       "      <td>0</td>\n",
       "      <td>...</td>\n",
       "      <td>False</td>\n",
       "      <td>True</td>\n",
       "      <td>False</td>\n",
       "      <td>False</td>\n",
       "      <td>False</td>\n",
       "      <td>False</td>\n",
       "      <td>False</td>\n",
       "      <td>False</td>\n",
       "      <td>12232.050682</td>\n",
       "      <td>3607</td>\n",
       "    </tr>\n",
       "    <tr>\n",
       "      <th>4</th>\n",
       "      <td>446</td>\n",
       "      <td>10800.315909</td>\n",
       "      <td>2014</td>\n",
       "      <td>True</td>\n",
       "      <td>1.3</td>\n",
       "      <td>91901</td>\n",
       "      <td>4</td>\n",
       "      <td>4</td>\n",
       "      <td>0</td>\n",
       "      <td>4</td>\n",
       "      <td>...</td>\n",
       "      <td>True</td>\n",
       "      <td>False</td>\n",
       "      <td>False</td>\n",
       "      <td>False</td>\n",
       "      <td>False</td>\n",
       "      <td>False</td>\n",
       "      <td>False</td>\n",
       "      <td>False</td>\n",
       "      <td>11076.445067</td>\n",
       "      <td>11726</td>\n",
       "    </tr>\n",
       "  </tbody>\n",
       "</table>\n",
       "<p>5 rows × 49 columns</p>\n",
       "</div>"
      ],
      "text/plain": [
       "   Levy         Model  Prod. year  Leather interior  Engine volume  Mileage  \\\n",
       "0  1399   7109.893637        2010              True            3.5   186005   \n",
       "1  1018  10796.543031        2011             False            3.0   192000   \n",
       "2     0  10800.315909        2006             False            1.3   200000   \n",
       "3   862   8172.567881        2011              True            2.5   168966   \n",
       "4   446  10800.315909        2014              True            1.3    91901   \n",
       "\n",
       "   Cylinders  Doors  Wheel  Airbags  ...  Category_Hatchback  Category_Jeep  \\\n",
       "0          6      4      0       12  ...               False           True   \n",
       "1          6      4      0        8  ...               False           True   \n",
       "2          4      4      1        2  ...                True          False   \n",
       "3          4      4      0        0  ...               False           True   \n",
       "4          4      4      0        4  ...                True          False   \n",
       "\n",
       "   Category_Limousine  Category_Microbus  Category_Minivan  Category_Pickup  \\\n",
       "0               False              False             False            False   \n",
       "1               False              False             False            False   \n",
       "2               False              False             False            False   \n",
       "3               False              False             False            False   \n",
       "4               False              False             False            False   \n",
       "\n",
       "   Category_Sedan  Category_Universal  Manufacturer_target  Price  \n",
       "0           False               False         12667.128947  13328  \n",
       "1           False               False         13745.235236  16621  \n",
       "2           False               False         11076.445067   8467  \n",
       "3           False               False         12232.050682   3607  \n",
       "4           False               False         11076.445067  11726  \n",
       "\n",
       "[5 rows x 49 columns]"
      ]
     },
     "execution_count": 490,
     "metadata": {},
     "output_type": "execute_result"
    }
   ],
   "source": [
    "df_encoded.head()"
   ]
  },
  {
   "cell_type": "code",
   "execution_count": 491,
   "id": "03a6c700",
   "metadata": {},
   "outputs": [],
   "source": [
    "df_encoded.to_csv(\"Data/car_prices_encoded.csv\", index=False)"
   ]
  },
  {
   "cell_type": "markdown",
   "id": "860afb8e",
   "metadata": {},
   "source": [
    "---"
   ]
  },
  {
   "cell_type": "markdown",
   "id": "83042f4b",
   "metadata": {},
   "source": [
    "**Scaling Data:**"
   ]
  },
  {
   "cell_type": "code",
   "execution_count": 492,
   "id": "aeb1373b",
   "metadata": {},
   "outputs": [
    {
     "data": {
      "application/vnd.microsoft.datawrangler.viewer.v0+json": {
       "columns": [
        {
         "name": "index",
         "rawType": "int64",
         "type": "integer"
        },
        {
         "name": "Levy",
         "rawType": "float64",
         "type": "float"
        },
        {
         "name": "Model",
         "rawType": "float64",
         "type": "float"
        },
        {
         "name": "Prod. year",
         "rawType": "float64",
         "type": "float"
        },
        {
         "name": "Leather interior",
         "rawType": "bool",
         "type": "boolean"
        },
        {
         "name": "Engine volume",
         "rawType": "float64",
         "type": "float"
        },
        {
         "name": "Mileage",
         "rawType": "float64",
         "type": "float"
        },
        {
         "name": "Cylinders",
         "rawType": "float64",
         "type": "float"
        },
        {
         "name": "Doors",
         "rawType": "float64",
         "type": "float"
        },
        {
         "name": "Wheel",
         "rawType": "int32",
         "type": "integer"
        },
        {
         "name": "Airbags",
         "rawType": "float64",
         "type": "float"
        },
        {
         "name": "has_Turbo",
         "rawType": "bool",
         "type": "boolean"
        },
        {
         "name": "Gear box type_Manual",
         "rawType": "bool",
         "type": "boolean"
        },
        {
         "name": "Gear box type_Tiptronic",
         "rawType": "bool",
         "type": "boolean"
        },
        {
         "name": "Gear box type_Variator",
         "rawType": "bool",
         "type": "boolean"
        },
        {
         "name": "Drive wheels_Front",
         "rawType": "bool",
         "type": "boolean"
        },
        {
         "name": "Drive wheels_Rear",
         "rawType": "bool",
         "type": "boolean"
        },
        {
         "name": "Fuel type_Diesel",
         "rawType": "bool",
         "type": "boolean"
        },
        {
         "name": "Fuel type_Hybrid",
         "rawType": "bool",
         "type": "boolean"
        },
        {
         "name": "Fuel type_Hydrogen",
         "rawType": "bool",
         "type": "boolean"
        },
        {
         "name": "Fuel type_LPG",
         "rawType": "bool",
         "type": "boolean"
        },
        {
         "name": "Fuel type_Petrol",
         "rawType": "bool",
         "type": "boolean"
        },
        {
         "name": "Fuel type_Plug-in Hybrid",
         "rawType": "bool",
         "type": "boolean"
        },
        {
         "name": "Color_Black",
         "rawType": "bool",
         "type": "boolean"
        },
        {
         "name": "Color_Blue",
         "rawType": "bool",
         "type": "boolean"
        },
        {
         "name": "Color_Brown",
         "rawType": "bool",
         "type": "boolean"
        },
        {
         "name": "Color_Carnelian red",
         "rawType": "bool",
         "type": "boolean"
        },
        {
         "name": "Color_Golden",
         "rawType": "bool",
         "type": "boolean"
        },
        {
         "name": "Color_Green",
         "rawType": "bool",
         "type": "boolean"
        },
        {
         "name": "Color_Grey",
         "rawType": "bool",
         "type": "boolean"
        },
        {
         "name": "Color_Orange",
         "rawType": "bool",
         "type": "boolean"
        },
        {
         "name": "Color_Pink",
         "rawType": "bool",
         "type": "boolean"
        },
        {
         "name": "Color_Purple",
         "rawType": "bool",
         "type": "boolean"
        },
        {
         "name": "Color_Red",
         "rawType": "bool",
         "type": "boolean"
        },
        {
         "name": "Color_Silver",
         "rawType": "bool",
         "type": "boolean"
        },
        {
         "name": "Color_Sky blue",
         "rawType": "bool",
         "type": "boolean"
        },
        {
         "name": "Color_White",
         "rawType": "bool",
         "type": "boolean"
        },
        {
         "name": "Color_Yellow",
         "rawType": "bool",
         "type": "boolean"
        },
        {
         "name": "Category_Coupe",
         "rawType": "bool",
         "type": "boolean"
        },
        {
         "name": "Category_Goods wagon",
         "rawType": "bool",
         "type": "boolean"
        },
        {
         "name": "Category_Hatchback",
         "rawType": "bool",
         "type": "boolean"
        },
        {
         "name": "Category_Jeep",
         "rawType": "bool",
         "type": "boolean"
        },
        {
         "name": "Category_Limousine",
         "rawType": "bool",
         "type": "boolean"
        },
        {
         "name": "Category_Microbus",
         "rawType": "bool",
         "type": "boolean"
        },
        {
         "name": "Category_Minivan",
         "rawType": "bool",
         "type": "boolean"
        },
        {
         "name": "Category_Pickup",
         "rawType": "bool",
         "type": "boolean"
        },
        {
         "name": "Category_Sedan",
         "rawType": "bool",
         "type": "boolean"
        },
        {
         "name": "Category_Universal",
         "rawType": "bool",
         "type": "boolean"
        },
        {
         "name": "Manufacturer_target",
         "rawType": "float64",
         "type": "float"
        },
        {
         "name": "Price",
         "rawType": "int32",
         "type": "integer"
        }
       ],
       "ref": "5f3b9159-888e-4a2e-8c7e-5f24782fa1bf",
       "rows": [
        [
         "0",
         "1.6248413814021536",
         "-1.2500007913634419",
         "-0.12055084809085546",
         "True",
         "1.5476414451647234",
         "-0.029136133281073458",
         "1.3184567217480874",
         "0.18541474324460575",
         "0",
         "1.2580928330626895",
         "False",
         "False",
         "False",
         "False",
         "False",
         "False",
         "False",
         "True",
         "False",
         "False",
         "False",
         "False",
         "False",
         "False",
         "False",
         "False",
         "False",
         "False",
         "False",
         "False",
         "False",
         "False",
         "False",
         "True",
         "False",
         "False",
         "False",
         "False",
         "False",
         "False",
         "True",
         "False",
         "False",
         "False",
         "False",
         "False",
         "False",
         "-0.3506069137729082",
         "13328"
        ],
        [
         "1",
         "0.8512954893675249",
         "-0.5934411173677437",
         "0.05756466446588941",
         "False",
         "0.9256173611911036",
         "-0.029017295935438836",
         "1.3184567217480874",
         "0.18541474324460575",
         "0",
         "0.3310274638365189",
         "False",
         "False",
         "True",
         "False",
         "False",
         "False",
         "False",
         "False",
         "False",
         "False",
         "True",
         "False",
         "True",
         "False",
         "False",
         "False",
         "False",
         "False",
         "False",
         "False",
         "False",
         "False",
         "False",
         "False",
         "False",
         "False",
         "False",
         "False",
         "False",
         "False",
         "True",
         "False",
         "False",
         "False",
         "False",
         "False",
         "False",
         "-0.08393816271201096",
         "16621"
        ],
        [
         "2",
         "-1.215554164415289",
         "-0.5927692011958792",
         "-0.833012898317835",
         "False",
         "-1.1892645243192033",
         "-0.02885871398963784",
         "-0.4649318608219109",
         "0.18541474324460575",
         "1",
         "-1.059570590002737",
         "False",
         "False",
         "False",
         "True",
         "True",
         "False",
         "False",
         "False",
         "False",
         "False",
         "True",
         "False",
         "True",
         "False",
         "False",
         "False",
         "False",
         "False",
         "False",
         "False",
         "False",
         "False",
         "False",
         "False",
         "False",
         "False",
         "False",
         "False",
         "False",
         "True",
         "False",
         "False",
         "False",
         "False",
         "False",
         "False",
         "False",
         "-0.7440613329022688",
         "8467"
        ],
        [
         "3",
         "0.5345680375108265",
         "-1.0607479006762228",
         "0.05756466446588941",
         "True",
         "0.3035932772174839",
         "-0.029473893002886352",
         "-0.4649318608219109",
         "0.18541474324460575",
         "0",
         "-1.5231032746158222",
         "False",
         "False",
         "False",
         "False",
         "False",
         "False",
         "False",
         "True",
         "False",
         "False",
         "False",
         "False",
         "False",
         "False",
         "False",
         "False",
         "False",
         "False",
         "False",
         "False",
         "False",
         "False",
         "False",
         "False",
         "False",
         "True",
         "False",
         "False",
         "False",
         "False",
         "True",
         "False",
         "False",
         "False",
         "False",
         "False",
         "False",
         "-0.45822318386573957",
         "3607"
        ],
        [
         "4",
         "-0.31003850077370254",
         "-0.5927692011958792",
         "0.591911202136124",
         "True",
         "-1.1892645243192033",
         "-0.031001532709530558",
         "-0.4649318608219109",
         "0.18541474324460575",
         "0",
         "-0.5960379053896516",
         "False",
         "False",
         "False",
         "False",
         "True",
         "False",
         "False",
         "False",
         "False",
         "False",
         "True",
         "False",
         "False",
         "False",
         "False",
         "False",
         "False",
         "False",
         "False",
         "False",
         "False",
         "False",
         "False",
         "True",
         "False",
         "False",
         "False",
         "False",
         "False",
         "True",
         "False",
         "False",
         "False",
         "False",
         "False",
         "False",
         "False",
         "-0.7440613329022688",
         "11726"
        ]
       ],
       "shape": {
        "columns": 49,
        "rows": 5
       }
      },
      "text/html": [
       "<div>\n",
       "<style scoped>\n",
       "    .dataframe tbody tr th:only-of-type {\n",
       "        vertical-align: middle;\n",
       "    }\n",
       "\n",
       "    .dataframe tbody tr th {\n",
       "        vertical-align: top;\n",
       "    }\n",
       "\n",
       "    .dataframe thead th {\n",
       "        text-align: right;\n",
       "    }\n",
       "</style>\n",
       "<table border=\"1\" class=\"dataframe\">\n",
       "  <thead>\n",
       "    <tr style=\"text-align: right;\">\n",
       "      <th></th>\n",
       "      <th>Levy</th>\n",
       "      <th>Model</th>\n",
       "      <th>Prod. year</th>\n",
       "      <th>Leather interior</th>\n",
       "      <th>Engine volume</th>\n",
       "      <th>Mileage</th>\n",
       "      <th>Cylinders</th>\n",
       "      <th>Doors</th>\n",
       "      <th>Wheel</th>\n",
       "      <th>Airbags</th>\n",
       "      <th>...</th>\n",
       "      <th>Category_Hatchback</th>\n",
       "      <th>Category_Jeep</th>\n",
       "      <th>Category_Limousine</th>\n",
       "      <th>Category_Microbus</th>\n",
       "      <th>Category_Minivan</th>\n",
       "      <th>Category_Pickup</th>\n",
       "      <th>Category_Sedan</th>\n",
       "      <th>Category_Universal</th>\n",
       "      <th>Manufacturer_target</th>\n",
       "      <th>Price</th>\n",
       "    </tr>\n",
       "  </thead>\n",
       "  <tbody>\n",
       "    <tr>\n",
       "      <th>0</th>\n",
       "      <td>1.624841</td>\n",
       "      <td>-1.250001</td>\n",
       "      <td>-0.120551</td>\n",
       "      <td>True</td>\n",
       "      <td>1.547641</td>\n",
       "      <td>-0.029136</td>\n",
       "      <td>1.318457</td>\n",
       "      <td>0.185415</td>\n",
       "      <td>0</td>\n",
       "      <td>1.258093</td>\n",
       "      <td>...</td>\n",
       "      <td>False</td>\n",
       "      <td>True</td>\n",
       "      <td>False</td>\n",
       "      <td>False</td>\n",
       "      <td>False</td>\n",
       "      <td>False</td>\n",
       "      <td>False</td>\n",
       "      <td>False</td>\n",
       "      <td>-0.350607</td>\n",
       "      <td>13328</td>\n",
       "    </tr>\n",
       "    <tr>\n",
       "      <th>1</th>\n",
       "      <td>0.851295</td>\n",
       "      <td>-0.593441</td>\n",
       "      <td>0.057565</td>\n",
       "      <td>False</td>\n",
       "      <td>0.925617</td>\n",
       "      <td>-0.029017</td>\n",
       "      <td>1.318457</td>\n",
       "      <td>0.185415</td>\n",
       "      <td>0</td>\n",
       "      <td>0.331027</td>\n",
       "      <td>...</td>\n",
       "      <td>False</td>\n",
       "      <td>True</td>\n",
       "      <td>False</td>\n",
       "      <td>False</td>\n",
       "      <td>False</td>\n",
       "      <td>False</td>\n",
       "      <td>False</td>\n",
       "      <td>False</td>\n",
       "      <td>-0.083938</td>\n",
       "      <td>16621</td>\n",
       "    </tr>\n",
       "    <tr>\n",
       "      <th>2</th>\n",
       "      <td>-1.215554</td>\n",
       "      <td>-0.592769</td>\n",
       "      <td>-0.833013</td>\n",
       "      <td>False</td>\n",
       "      <td>-1.189265</td>\n",
       "      <td>-0.028859</td>\n",
       "      <td>-0.464932</td>\n",
       "      <td>0.185415</td>\n",
       "      <td>1</td>\n",
       "      <td>-1.059571</td>\n",
       "      <td>...</td>\n",
       "      <td>True</td>\n",
       "      <td>False</td>\n",
       "      <td>False</td>\n",
       "      <td>False</td>\n",
       "      <td>False</td>\n",
       "      <td>False</td>\n",
       "      <td>False</td>\n",
       "      <td>False</td>\n",
       "      <td>-0.744061</td>\n",
       "      <td>8467</td>\n",
       "    </tr>\n",
       "    <tr>\n",
       "      <th>3</th>\n",
       "      <td>0.534568</td>\n",
       "      <td>-1.060748</td>\n",
       "      <td>0.057565</td>\n",
       "      <td>True</td>\n",
       "      <td>0.303593</td>\n",
       "      <td>-0.029474</td>\n",
       "      <td>-0.464932</td>\n",
       "      <td>0.185415</td>\n",
       "      <td>0</td>\n",
       "      <td>-1.523103</td>\n",
       "      <td>...</td>\n",
       "      <td>False</td>\n",
       "      <td>True</td>\n",
       "      <td>False</td>\n",
       "      <td>False</td>\n",
       "      <td>False</td>\n",
       "      <td>False</td>\n",
       "      <td>False</td>\n",
       "      <td>False</td>\n",
       "      <td>-0.458223</td>\n",
       "      <td>3607</td>\n",
       "    </tr>\n",
       "    <tr>\n",
       "      <th>4</th>\n",
       "      <td>-0.310039</td>\n",
       "      <td>-0.592769</td>\n",
       "      <td>0.591911</td>\n",
       "      <td>True</td>\n",
       "      <td>-1.189265</td>\n",
       "      <td>-0.031002</td>\n",
       "      <td>-0.464932</td>\n",
       "      <td>0.185415</td>\n",
       "      <td>0</td>\n",
       "      <td>-0.596038</td>\n",
       "      <td>...</td>\n",
       "      <td>True</td>\n",
       "      <td>False</td>\n",
       "      <td>False</td>\n",
       "      <td>False</td>\n",
       "      <td>False</td>\n",
       "      <td>False</td>\n",
       "      <td>False</td>\n",
       "      <td>False</td>\n",
       "      <td>-0.744061</td>\n",
       "      <td>11726</td>\n",
       "    </tr>\n",
       "  </tbody>\n",
       "</table>\n",
       "<p>5 rows × 49 columns</p>\n",
       "</div>"
      ],
      "text/plain": [
       "       Levy     Model  Prod. year  Leather interior  Engine volume   Mileage  \\\n",
       "0  1.624841 -1.250001   -0.120551              True       1.547641 -0.029136   \n",
       "1  0.851295 -0.593441    0.057565             False       0.925617 -0.029017   \n",
       "2 -1.215554 -0.592769   -0.833013             False      -1.189265 -0.028859   \n",
       "3  0.534568 -1.060748    0.057565              True       0.303593 -0.029474   \n",
       "4 -0.310039 -0.592769    0.591911              True      -1.189265 -0.031002   \n",
       "\n",
       "   Cylinders     Doors  Wheel   Airbags  ...  Category_Hatchback  \\\n",
       "0   1.318457  0.185415      0  1.258093  ...               False   \n",
       "1   1.318457  0.185415      0  0.331027  ...               False   \n",
       "2  -0.464932  0.185415      1 -1.059571  ...                True   \n",
       "3  -0.464932  0.185415      0 -1.523103  ...               False   \n",
       "4  -0.464932  0.185415      0 -0.596038  ...                True   \n",
       "\n",
       "   Category_Jeep  Category_Limousine  Category_Microbus  Category_Minivan  \\\n",
       "0           True               False              False             False   \n",
       "1           True               False              False             False   \n",
       "2          False               False              False             False   \n",
       "3           True               False              False             False   \n",
       "4          False               False              False             False   \n",
       "\n",
       "   Category_Pickup  Category_Sedan  Category_Universal  Manufacturer_target  \\\n",
       "0            False           False               False            -0.350607   \n",
       "1            False           False               False            -0.083938   \n",
       "2            False           False               False            -0.744061   \n",
       "3            False           False               False            -0.458223   \n",
       "4            False           False               False            -0.744061   \n",
       "\n",
       "   Price  \n",
       "0  13328  \n",
       "1  16621  \n",
       "2   8467  \n",
       "3   3607  \n",
       "4  11726  \n",
       "\n",
       "[5 rows x 49 columns]"
      ]
     },
     "execution_count": 492,
     "metadata": {},
     "output_type": "execute_result"
    }
   ],
   "source": [
    "from sklearn.preprocessing import StandardScaler\n",
    "\n",
    "df_scaled = df_encoded.copy()\n",
    "scaler = StandardScaler()\n",
    "df_scaled[[\"Levy\",\"Model\",\"Prod. year\",\"Engine volume\",\"Mileage\",\"Cylinders\",\"Doors\",\"Airbags\",\"Manufacturer_target\"]] = scaler.fit_transform(df_scaled[[\"Levy\",\"Model\",\"Prod. year\",\"Engine volume\",\"Mileage\",\"Cylinders\",\"Doors\",\"Airbags\",\"Manufacturer_target\"]])\n",
    "\n",
    "df_scaled.head()"
   ]
  },
  {
   "cell_type": "code",
   "execution_count": 493,
   "id": "f5ea9aa5",
   "metadata": {},
   "outputs": [],
   "source": [
    "df_scaled.to_csv(\"Data/car_prices_scaled.csv\", index=False)"
   ]
  },
  {
   "cell_type": "markdown",
   "id": "506e4ccf",
   "metadata": {},
   "source": [
    "-----"
   ]
  },
  {
   "cell_type": "markdown",
   "id": "4bca3f16",
   "metadata": {},
   "source": [
    "**EDA:**"
   ]
  },
  {
   "cell_type": "code",
   "execution_count": 494,
   "id": "d108db29",
   "metadata": {},
   "outputs": [
    {
     "data": {
      "application/vnd.microsoft.datawrangler.viewer.v0+json": {
       "columns": [
        {
         "name": "index",
         "rawType": "int64",
         "type": "integer"
        },
        {
         "name": "ID",
         "rawType": "int64",
         "type": "integer"
        },
        {
         "name": "Price",
         "rawType": "int32",
         "type": "integer"
        },
        {
         "name": "Levy",
         "rawType": "int32",
         "type": "integer"
        },
        {
         "name": "Manufacturer",
         "rawType": "object",
         "type": "string"
        },
        {
         "name": "Model",
         "rawType": "object",
         "type": "string"
        },
        {
         "name": "Prod. year",
         "rawType": "int32",
         "type": "integer"
        },
        {
         "name": "Category",
         "rawType": "category",
         "type": "unknown"
        },
        {
         "name": "Leather interior",
         "rawType": "bool",
         "type": "boolean"
        },
        {
         "name": "Fuel type",
         "rawType": "category",
         "type": "unknown"
        },
        {
         "name": "Engine volume",
         "rawType": "float64",
         "type": "float"
        },
        {
         "name": "Mileage",
         "rawType": "int32",
         "type": "integer"
        },
        {
         "name": "Cylinders",
         "rawType": "int32",
         "type": "integer"
        },
        {
         "name": "Gear box type",
         "rawType": "category",
         "type": "unknown"
        },
        {
         "name": "Drive wheels",
         "rawType": "category",
         "type": "unknown"
        },
        {
         "name": "Doors",
         "rawType": "int32",
         "type": "integer"
        },
        {
         "name": "Wheel",
         "rawType": "category",
         "type": "unknown"
        },
        {
         "name": "Color",
         "rawType": "category",
         "type": "unknown"
        },
        {
         "name": "Airbags",
         "rawType": "int32",
         "type": "integer"
        },
        {
         "name": "has_Turbo",
         "rawType": "bool",
         "type": "boolean"
        }
       ],
       "ref": "e9e732c2-3303-453d-a544-501159c14edf",
       "rows": [
        [
         "0",
         "45654403",
         "13328",
         "1399",
         "LEXUS",
         "RX 450",
         "2010",
         "Jeep",
         "True",
         "Hybrid",
         "3.5",
         "186005",
         "6",
         "Automatic",
         "4x4",
         "4",
         "Left",
         "Silver",
         "12",
         "False"
        ],
        [
         "1",
         "44731507",
         "16621",
         "1018",
         "CHEVROLET",
         "Equinox",
         "2011",
         "Jeep",
         "False",
         "Petrol",
         "3.0",
         "192000",
         "6",
         "Tiptronic",
         "4x4",
         "4",
         "Left",
         "Black",
         "8",
         "False"
        ],
        [
         "2",
         "45774419",
         "8467",
         "0",
         "HONDA",
         "FIT",
         "2006",
         "Hatchback",
         "False",
         "Petrol",
         "1.3",
         "200000",
         "4",
         "Variator",
         "Front",
         "4",
         "Right",
         "Black",
         "2",
         "False"
        ],
        [
         "3",
         "45769185",
         "3607",
         "862",
         "FORD",
         "Escape",
         "2011",
         "Jeep",
         "True",
         "Hybrid",
         "2.5",
         "168966",
         "4",
         "Automatic",
         "4x4",
         "4",
         "Left",
         "White",
         "0",
         "False"
        ],
        [
         "4",
         "45809263",
         "11726",
         "446",
         "HONDA",
         "FIT",
         "2014",
         "Hatchback",
         "True",
         "Petrol",
         "1.3",
         "91901",
         "4",
         "Automatic",
         "Front",
         "4",
         "Left",
         "Silver",
         "4",
         "False"
        ]
       ],
       "shape": {
        "columns": 19,
        "rows": 5
       }
      },
      "text/html": [
       "<div>\n",
       "<style scoped>\n",
       "    .dataframe tbody tr th:only-of-type {\n",
       "        vertical-align: middle;\n",
       "    }\n",
       "\n",
       "    .dataframe tbody tr th {\n",
       "        vertical-align: top;\n",
       "    }\n",
       "\n",
       "    .dataframe thead th {\n",
       "        text-align: right;\n",
       "    }\n",
       "</style>\n",
       "<table border=\"1\" class=\"dataframe\">\n",
       "  <thead>\n",
       "    <tr style=\"text-align: right;\">\n",
       "      <th></th>\n",
       "      <th>ID</th>\n",
       "      <th>Price</th>\n",
       "      <th>Levy</th>\n",
       "      <th>Manufacturer</th>\n",
       "      <th>Model</th>\n",
       "      <th>Prod. year</th>\n",
       "      <th>Category</th>\n",
       "      <th>Leather interior</th>\n",
       "      <th>Fuel type</th>\n",
       "      <th>Engine volume</th>\n",
       "      <th>Mileage</th>\n",
       "      <th>Cylinders</th>\n",
       "      <th>Gear box type</th>\n",
       "      <th>Drive wheels</th>\n",
       "      <th>Doors</th>\n",
       "      <th>Wheel</th>\n",
       "      <th>Color</th>\n",
       "      <th>Airbags</th>\n",
       "      <th>has_Turbo</th>\n",
       "    </tr>\n",
       "  </thead>\n",
       "  <tbody>\n",
       "    <tr>\n",
       "      <th>0</th>\n",
       "      <td>45654403</td>\n",
       "      <td>13328</td>\n",
       "      <td>1399</td>\n",
       "      <td>LEXUS</td>\n",
       "      <td>RX 450</td>\n",
       "      <td>2010</td>\n",
       "      <td>Jeep</td>\n",
       "      <td>True</td>\n",
       "      <td>Hybrid</td>\n",
       "      <td>3.5</td>\n",
       "      <td>186005</td>\n",
       "      <td>6</td>\n",
       "      <td>Automatic</td>\n",
       "      <td>4x4</td>\n",
       "      <td>4</td>\n",
       "      <td>Left</td>\n",
       "      <td>Silver</td>\n",
       "      <td>12</td>\n",
       "      <td>False</td>\n",
       "    </tr>\n",
       "    <tr>\n",
       "      <th>1</th>\n",
       "      <td>44731507</td>\n",
       "      <td>16621</td>\n",
       "      <td>1018</td>\n",
       "      <td>CHEVROLET</td>\n",
       "      <td>Equinox</td>\n",
       "      <td>2011</td>\n",
       "      <td>Jeep</td>\n",
       "      <td>False</td>\n",
       "      <td>Petrol</td>\n",
       "      <td>3.0</td>\n",
       "      <td>192000</td>\n",
       "      <td>6</td>\n",
       "      <td>Tiptronic</td>\n",
       "      <td>4x4</td>\n",
       "      <td>4</td>\n",
       "      <td>Left</td>\n",
       "      <td>Black</td>\n",
       "      <td>8</td>\n",
       "      <td>False</td>\n",
       "    </tr>\n",
       "    <tr>\n",
       "      <th>2</th>\n",
       "      <td>45774419</td>\n",
       "      <td>8467</td>\n",
       "      <td>0</td>\n",
       "      <td>HONDA</td>\n",
       "      <td>FIT</td>\n",
       "      <td>2006</td>\n",
       "      <td>Hatchback</td>\n",
       "      <td>False</td>\n",
       "      <td>Petrol</td>\n",
       "      <td>1.3</td>\n",
       "      <td>200000</td>\n",
       "      <td>4</td>\n",
       "      <td>Variator</td>\n",
       "      <td>Front</td>\n",
       "      <td>4</td>\n",
       "      <td>Right</td>\n",
       "      <td>Black</td>\n",
       "      <td>2</td>\n",
       "      <td>False</td>\n",
       "    </tr>\n",
       "    <tr>\n",
       "      <th>3</th>\n",
       "      <td>45769185</td>\n",
       "      <td>3607</td>\n",
       "      <td>862</td>\n",
       "      <td>FORD</td>\n",
       "      <td>Escape</td>\n",
       "      <td>2011</td>\n",
       "      <td>Jeep</td>\n",
       "      <td>True</td>\n",
       "      <td>Hybrid</td>\n",
       "      <td>2.5</td>\n",
       "      <td>168966</td>\n",
       "      <td>4</td>\n",
       "      <td>Automatic</td>\n",
       "      <td>4x4</td>\n",
       "      <td>4</td>\n",
       "      <td>Left</td>\n",
       "      <td>White</td>\n",
       "      <td>0</td>\n",
       "      <td>False</td>\n",
       "    </tr>\n",
       "    <tr>\n",
       "      <th>4</th>\n",
       "      <td>45809263</td>\n",
       "      <td>11726</td>\n",
       "      <td>446</td>\n",
       "      <td>HONDA</td>\n",
       "      <td>FIT</td>\n",
       "      <td>2014</td>\n",
       "      <td>Hatchback</td>\n",
       "      <td>True</td>\n",
       "      <td>Petrol</td>\n",
       "      <td>1.3</td>\n",
       "      <td>91901</td>\n",
       "      <td>4</td>\n",
       "      <td>Automatic</td>\n",
       "      <td>Front</td>\n",
       "      <td>4</td>\n",
       "      <td>Left</td>\n",
       "      <td>Silver</td>\n",
       "      <td>4</td>\n",
       "      <td>False</td>\n",
       "    </tr>\n",
       "  </tbody>\n",
       "</table>\n",
       "</div>"
      ],
      "text/plain": [
       "         ID  Price  Levy Manufacturer    Model  Prod. year   Category  \\\n",
       "0  45654403  13328  1399        LEXUS   RX 450        2010       Jeep   \n",
       "1  44731507  16621  1018    CHEVROLET  Equinox        2011       Jeep   \n",
       "2  45774419   8467     0        HONDA      FIT        2006  Hatchback   \n",
       "3  45769185   3607   862         FORD   Escape        2011       Jeep   \n",
       "4  45809263  11726   446        HONDA      FIT        2014  Hatchback   \n",
       "\n",
       "   Leather interior Fuel type  Engine volume  Mileage  Cylinders  \\\n",
       "0              True    Hybrid            3.5   186005          6   \n",
       "1             False    Petrol            3.0   192000          6   \n",
       "2             False    Petrol            1.3   200000          4   \n",
       "3              True    Hybrid            2.5   168966          4   \n",
       "4              True    Petrol            1.3    91901          4   \n",
       "\n",
       "  Gear box type Drive wheels  Doors  Wheel   Color  Airbags  has_Turbo  \n",
       "0     Automatic          4x4      4   Left  Silver       12      False  \n",
       "1     Tiptronic          4x4      4   Left   Black        8      False  \n",
       "2      Variator        Front      4  Right   Black        2      False  \n",
       "3     Automatic          4x4      4   Left   White        0      False  \n",
       "4     Automatic        Front      4   Left  Silver        4      False  "
      ]
     },
     "execution_count": 494,
     "metadata": {},
     "output_type": "execute_result"
    }
   ],
   "source": [
    "df.head()"
   ]
  },
  {
   "cell_type": "code",
   "execution_count": 495,
   "id": "af5c8c60",
   "metadata": {},
   "outputs": [
    {
     "data": {
      "image/png": "[encoded data removed]",
      "text/plain": [
       "<Figure size 2000x1300 with 9 Axes>"
      ]
     },
     "metadata": {},
     "output_type": "display_data"
    }
   ],
   "source": [
    "fig, axes = plt.subplots(3, 3, figsize=(20, 13))\n",
    "plt.suptitle(\"Category Visualizations\", fontsize=20, fontweight=\"bold\")\n",
    "\n",
    "axes[0,0].set_title(\"Gear Box Type Distribution\")\n",
    "sns.countplot(x=\"Gear box type\", data=df, ax=axes[0, 0])\n",
    "\n",
    "axes[0,1].set_title(\"Drive Wheels Distribution\")\n",
    "sns.countplot(x=\"Drive wheels\", data=df, ax=axes[0, 1])\n",
    "\n",
    "axes[0,2].set_title(\"Category Distribution\")\n",
    "sns.countplot(x=\"Category\", data=df, ax=axes[0, 2])\n",
    "axes[0,2].tick_params(axis=\"x\", rotation=45)\n",
    "\n",
    "axes[1,0].set_title(\"Color Distribution\")\n",
    "sns.countplot(x=\"Color\", data=df, ax=axes[1, 0])\n",
    "axes[1,0].tick_params(axis=\"x\", rotation=45)\n",
    "\n",
    "axes[1,1].set_title(\"Fuel Distribution\")\n",
    "sns.countplot(x=\"Fuel type\", data=df, ax=axes[1, 1])\n",
    "\n",
    "axes[1,2].set_title(\"Doors Distribution\")\n",
    "sns.countplot(x=\"Doors\", data=df, ax=axes[1, 2])\n",
    "\n",
    "axes[2,0].set_title(\"Has Turbo Distribution\")\n",
    "df[\"has_Turbo\"].value_counts().plot.pie(autopct=\"%1.1f%%\", ax=axes[2,0], startangle=90)\n",
    "axes[2,0].set_ylabel(\"\")\n",
    "\n",
    "axes[2,1].set_title(\"Wheel Distribution\")\n",
    "df[\"Wheel\"].value_counts().plot.pie(autopct=\"%1.1f%%\", ax=axes[2,1], startangle=90)\n",
    "axes[2,1].set_ylabel(\"\")\n",
    "\n",
    "axes[2,2].set_title(\"Leather interior Distribution\")\n",
    "df[\"Leather interior\"].value_counts().plot.pie(autopct=\"%1.1f%%\", ax=axes[2,2], startangle=90)\n",
    "axes[2,2].set_ylabel(\"\")\n",
    "\n",
    "plt.subplots_adjust(wspace=0.4, hspace=0.5)\n",
    "plt.tight_layout()\n",
    "plt.show()"
   ]
  },
  {
   "cell_type": "code",
   "execution_count": 496,
   "id": "6d31340c",
   "metadata": {},
   "outputs": [
    {
     "data": {
      "image/png": "[encoded data removed]",
      "text/plain": [
       "<Figure size 640x480 with 1 Axes>"
      ]
     },
     "metadata": {},
     "output_type": "display_data"
    }
   ],
   "source": [
    "cylinders = df[\"Cylinders\"].value_counts()\n",
    "sns.barplot(x= cylinders.index, y= cylinders, data=pd.DataFrame(cylinders), order=cylinders.index)\n",
    "plt.title(\"Cylinders Distribution\")\n",
    "plt.show()"
   ]
  },
  {
   "cell_type": "code",
   "execution_count": 497,
   "id": "159d1136",
   "metadata": {},
   "outputs": [
    {
     "data": {
      "image/png": "[encoded data removed]",
      "text/plain": [
       "<Figure size 640x480 with 1 Axes>"
      ]
     },
     "metadata": {},
     "output_type": "display_data"
    }
   ],
   "source": [
    "sns.violinplot(x=\"Fuel type\", y=\"Price\", data=df)\n",
    "plt.title(\"Price Distribution by Fuel Type\")\n",
    "plt.show()"
   ]
  },
  {
   "cell_type": "code",
   "execution_count": 498,
   "id": "12a1bab5",
   "metadata": {},
   "outputs": [
    {
     "data": {
      "image/png": "[encoded data removed]",
      "text/plain": [
       "<Figure size 640x480 with 1 Axes>"
      ]
     },
     "metadata": {},
     "output_type": "display_data"
    }
   ],
   "source": [
    "sns.boxplot(x=\"Category\", y=\"Price\", data=df)\n",
    "plt.xticks(rotation=60)\n",
    "plt.title(\"Price Distribution by Category\")\n",
    "plt.show()"
   ]
  },
  {
   "cell_type": "code",
   "execution_count": 499,
   "id": "048b316d",
   "metadata": {},
   "outputs": [
    {
     "data": {
      "image/png": "[encoded data removed]",
      "text/plain": [
       "<Figure size 640x480 with 1 Axes>"
      ]
     },
     "metadata": {},
     "output_type": "display_data"
    }
   ],
   "source": [
    "sns.scatterplot(x=\"Prod. year\", y=\"Price\", data=df, hue=\"Gear box type\")\n",
    "plt.title(\"Price Distribution by Production Year and Gear Box Type\")\n",
    "plt.show()"
   ]
  },
  {
   "cell_type": "code",
   "execution_count": 500,
   "id": "de45fa2a",
   "metadata": {},
   "outputs": [
    {
     "data": {
      "image/png": "[encoded data removed]",
      "text/plain": [
       "<Figure size 1000x1000 with 2 Axes>"
      ]
     },
     "metadata": {},
     "output_type": "display_data"
    }
   ],
   "source": [
    "plt.figure(figsize=(10, 10))\n",
    "sns.heatmap(df.corr(numeric_only=True), annot=True)\n",
    "plt.show()"
   ]
  },
  {
   "cell_type": "code",
   "execution_count": 502,
   "id": "6ede78ca",
   "metadata": {},
   "outputs": [
    {
     "name": "stdout",
     "output_type": "stream",
     "text": [
      "Column: Manufacturer\n",
      "F-statistic: 43.183367998757795  P-value: 0.0\n",
      "\n",
      "\n",
      "Column: Model\n",
      "F-statistic: 6.2221080707258585  P-value: 0.0\n",
      "\n",
      "\n",
      "Column: Category\n",
      "F-statistic: 118.78865753731614  P-value: 8.857123228802323e-241\n",
      "\n",
      "\n",
      "Column: Fuel type\n",
      "F-statistic: 289.2507700243555  P-value: 0.0\n",
      "\n",
      "\n",
      "Column: Gear box type\n",
      "F-statistic: 282.3539794469299  P-value: 4.8296957666519947e-179\n",
      "\n",
      "\n",
      "Column: Drive wheels\n",
      "F-statistic: 22.973941012436914  P-value: 1.0850969522775447e-10\n",
      "\n",
      "\n",
      "Column: Wheel\n",
      "F-statistic: 359.1408475120322  P-value: 2.638782654335862e-79\n",
      "\n",
      "\n",
      "Column: Color\n",
      "F-statistic: 11.822502289388238  P-value: 1.1951718766441112e-29\n",
      "\n",
      "\n"
     ]
    }
   ],
   "source": [
    "from scipy import stats\n",
    "categorical_cols = [col for col in df.columns if df[col].dtypes == \"category\" or df[col].dtypes == \"O\"] \n",
    "\n",
    "for col in categorical_cols:\n",
    "    print(\"Column:\", col)\n",
    "    groups = [df[df[col]==cat][\"Price\"] for cat in df[col].unique()]\n",
    "    f_stat, p_val = stats.f_oneway(*groups)\n",
    "    print(\"F-statistic:\", f_stat, \" P-value:\", p_val)\n",
    "    print(\"\\n\")"
   ]
  }
 ],
 "metadata": {
  "kernelspec": {
   "display_name": "base",
   "language": "python",
   "name": "python3"
  },
  "language_info": {
   "codemirror_mode": {
    "name": "ipython",
    "version": 3
   },
   "file_extension": ".py",
   "mimetype": "text/x-python",
   "name": "python",
   "nbconvert_exporter": "python",
   "pygments_lexer": "ipython3",
   "version": "3.12.4"
  }
 },
 "nbformat": 4,
 "nbformat_minor": 5
}
